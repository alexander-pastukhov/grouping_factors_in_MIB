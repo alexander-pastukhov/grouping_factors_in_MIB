{
 "cells": [
  {
   "cell_type": "markdown",
   "metadata": {},
   "source": [
    "# Analysis for Experiment 1"
   ]
  },
  {
   "cell_type": "code",
   "execution_count": 39,
   "metadata": {},
   "outputs": [],
   "source": [
    "rm(list= ls())"
   ]
  },
  {
   "cell_type": "code",
   "execution_count": 40,
   "metadata": {},
   "outputs": [],
   "source": [
    "library(dplyr)\n",
    "library(lme4)\n",
    "library(lmerTest)\n",
    "library(BayesFactor)\n",
    "library(ggplot2)\n",
    "library(stringr)"
   ]
  },
  {
   "cell_type": "code",
   "execution_count": 41,
   "metadata": {},
   "outputs": [],
   "source": [
    "# relevant conditions\n",
    "data.folder <- 'Experiment 1. Connectedness and Common Region'\n",
    "relevant_conditions <- c('2 masks', '1 mask', '2 masks_connected dots', '1 mask_connected dots')"
   ]
  },
  {
   "cell_type": "markdown",
   "metadata": {},
   "source": [
    "## Analysis of disappearance duration: at least one target is invisible"
   ]
  },
  {
   "cell_type": "code",
   "execution_count": 42,
   "metadata": {},
   "outputs": [],
   "source": [
    "## reading imported response data\n",
    "subjective_state_change<- read.csv(file.path(data.folder, 'Experiment1_SubjectiveStateChange.csv'), sep=';')\n",
    "\n",
    "subjective_state_change <- subjective_state_change %>%\n",
    "    # removing irrelevant conditions\n",
    "    filter(ConditionLabel %in% relevant_conditions) %>%\n",
    "    \n",
    "    # extracting presence of individual factors from the condition label\n",
    "    mutate(MasksN= str_sub(ConditionLabel, 1,1),\n",
    "           Connected= ifelse(str_sub(ConditionLabel, -4, -1)=='dots', TRUE, FALSE)) %>%\n",
    "\n",
    "    # making sure that factors are represented as factors\n",
    "    mutate(MasksN = as.factor(MasksN), \n",
    "           Connected = as.factor(Connected)) %>%\n",
    " \n",
    "    # ordering conditions for plotting\n",
    "    mutate(ConditionLabel= factor(ConditionLabel, levels= relevant_conditions))\n"
   ]
  },
  {
   "cell_type": "code",
   "execution_count": 43,
   "metadata": {},
   "outputs": [
    {
     "data": {
      "text/html": [
       "<table>\n",
       "<thead><tr><th></th><th scope=col>Df</th><th scope=col>AIC</th><th scope=col>BIC</th><th scope=col>logLik</th><th scope=col>deviance</th><th scope=col>Chisq</th><th scope=col>Chi Df</th><th scope=col>Pr(&gt;Chisq)</th></tr></thead>\n",
       "<tbody>\n",
       "\t<tr><th scope=row>lm.null</th><td>3           </td><td> -92.18295  </td><td> -85.89991  </td><td>49.09147    </td><td> -98.18295  </td><td>        NA  </td><td>NA          </td><td>          NA</td></tr>\n",
       "\t<tr><th scope=row>lm.masks</th><td>4           </td><td> -90.44565  </td><td> -82.06827  </td><td>49.22282    </td><td> -98.44565  </td><td> 0.2626977  </td><td> 1          </td><td>6.082729e-01</td></tr>\n",
       "\t<tr><th scope=row>lm.connected</th><td>5           </td><td>-116.74402  </td><td>-106.27230  </td><td>63.37201    </td><td>-126.74402  </td><td>28.2983795  </td><td> 1          </td><td>1.039830e-07</td></tr>\n",
       "\t<tr><th scope=row>lm.interaction</th><td>6           </td><td>-114.88571  </td><td>-102.31965  </td><td>63.44286    </td><td>-126.88571  </td><td> 0.1416895  </td><td> 1          </td><td>7.066071e-01</td></tr>\n",
       "</tbody>\n",
       "</table>\n"
      ],
      "text/latex": [
       "\\begin{tabular}{r|llllllll}\n",
       "  & Df & AIC & BIC & logLik & deviance & Chisq & Chi Df & Pr(>Chisq)\\\\\n",
       "\\hline\n",
       "\tlm.null & 3            &  -92.18295   &  -85.89991   & 49.09147     &  -98.18295   &         NA   & NA           &           NA\\\\\n",
       "\tlm.masks & 4            &  -90.44565   &  -82.06827   & 49.22282     &  -98.44565   &  0.2626977   &  1           & 6.082729e-01\\\\\n",
       "\tlm.connected & 5            & -116.74402   & -106.27230   & 63.37201     & -126.74402   & 28.2983795   &  1           & 1.039830e-07\\\\\n",
       "\tlm.interaction & 6            & -114.88571   & -102.31965   & 63.44286     & -126.88571   &  0.1416895   &  1           & 7.066071e-01\\\\\n",
       "\\end{tabular}\n"
      ],
      "text/markdown": [
       "\n",
       "| <!--/--> | Df | AIC | BIC | logLik | deviance | Chisq | Chi Df | Pr(>Chisq) | \n",
       "|---|---|---|---|\n",
       "| lm.null | 3            |  -92.18295   |  -85.89991   | 49.09147     |  -98.18295   |         NA   | NA           |           NA | \n",
       "| lm.masks | 4            |  -90.44565   |  -82.06827   | 49.22282     |  -98.44565   |  0.2626977   |  1           | 6.082729e-01 | \n",
       "| lm.connected | 5            | -116.74402   | -106.27230   | 63.37201     | -126.74402   | 28.2983795   |  1           | 1.039830e-07 | \n",
       "| lm.interaction | 6            | -114.88571   | -102.31965   | 63.44286     | -126.88571   |  0.1416895   |  1           | 7.066071e-01 | \n",
       "\n",
       "\n"
      ],
      "text/plain": [
       "               Df AIC        BIC        logLik   deviance   Chisq      Chi Df\n",
       "lm.null        3   -92.18295  -85.89991 49.09147  -98.18295         NA NA    \n",
       "lm.masks       4   -90.44565  -82.06827 49.22282  -98.44565  0.2626977  1    \n",
       "lm.connected   5  -116.74402 -106.27230 63.37201 -126.74402 28.2983795  1    \n",
       "lm.interaction 6  -114.88571 -102.31965 63.44286 -126.88571  0.1416895  1    \n",
       "               Pr(>Chisq)  \n",
       "lm.null                  NA\n",
       "lm.masks       6.082729e-01\n",
       "lm.connected   1.039830e-07\n",
       "lm.interaction 7.066071e-01"
      ]
     },
     "metadata": {},
     "output_type": "display_data"
    }
   ],
   "source": [
    "disappearance.time <- subjective_state_change %>%\n",
    "    group_by(ID, MasksN, Connected) %>%\n",
    "    summarise(time.proportion= sum(Duration[TargetCount<2])/BlockDuration[1])\n",
    "disappearance.time <- data.frame(disappearance.time)\n",
    "\n",
    "lm.null <- lme4::lmer(time.proportion ~ 1 + (1|ID), data= disappearance.time, REML= FALSE)\n",
    "lm.masks <- update(lm.null, .~. + MasksN)\n",
    "lm.connected <- update(lm.masks, .~. + Connected)\n",
    "lm.interaction <- update(lm.connected, .~. + MasksN*Connected)\n",
    "anova(lm.null, lm.masks, lm.connected, lm.interaction)"
   ]
  },
  {
   "cell_type": "code",
   "execution_count": 44,
   "metadata": {},
   "outputs": [
    {
     "data": {
      "text/plain": [
       "Bayes factor analysis\n",
       "--------------\n",
       "[1] Connected + ID                             : 55246.29  ±0.95%\n",
       "[2] MasksN + Connected + ID                    : 17209.92  ±1.23%\n",
       "[3] MasksN + Connected + MasksN:Connected + ID : 6314.714  ±3.56%\n",
       "[4] MasksN + ID                                : 0.2899874 ±1.16%\n",
       "\n",
       "Against denominator:\n",
       "  time.proportion ~ ID \n",
       "---\n",
       "Bayes factor type: BFlinearModel, JZS\n"
      ]
     },
     "metadata": {},
     "output_type": "display_data"
    }
   ],
   "source": [
    "# seeding random generator to ensure reproducable Bayesian MCMC results\n",
    "set.seed(111122017)\n",
    "duration.bayes <- sort(anovaBF(time.proportion ~ MasksN + Connected + ID, data= disappearance.time, whichRandom = 'ID'), \n",
    "                       decreasing = TRUE)\n",
    "duration.bayes"
   ]
  },
  {
   "cell_type": "code",
   "execution_count": 45,
   "metadata": {},
   "outputs": [
    {
     "data": {
      "text/plain": [
       "Linear mixed model fit by REML t-tests use Satterthwaite approximations to\n",
       "  degrees of freedom [lmerMod]\n",
       "Formula: time.proportion ~ ConditionLabel + (1 | ID)\n",
       "   Data: time.per.condition.lmer\n",
       "\n",
       "REML criterion at convergence: -103.7\n",
       "\n",
       "Scaled residuals: \n",
       "     Min       1Q   Median       3Q      Max \n",
       "-1.49540 -0.60363 -0.07314  0.33840  2.54055 \n",
       "\n",
       "Random effects:\n",
       " Groups   Name        Variance Std.Dev.\n",
       " ID       (Intercept) 0.007655 0.08749 \n",
       " Residual             0.004537 0.06736 \n",
       "Number of obs: 60, groups:  ID, 15\n",
       "\n",
       "Fixed effects:\n",
       "                                     Estimate Std. Error       df t value\n",
       "(Intercept)                           0.21883    0.02851 25.66000   7.676\n",
       "ConditionLabel1 mask                  0.01816    0.02459 42.00000   0.738\n",
       "ConditionLabel2 masks_connected dots -0.09929    0.02459 42.00000  -4.037\n",
       "ConditionLabel1 mask_connected dots  -0.09379    0.02459 42.00000  -3.814\n",
       "                                     Pr(>|t|)    \n",
       "(Intercept)                          4.16e-08 ***\n",
       "ConditionLabel1 mask                 0.464439    \n",
       "ConditionLabel2 masks_connected dots 0.000225 ***\n",
       "ConditionLabel1 mask_connected dots  0.000442 ***\n",
       "---\n",
       "Signif. codes:  0 '***' 0.001 '**' 0.01 '*' 0.05 '.' 0.1 ' ' 1\n",
       "\n",
       "Correlation of Fixed Effects:\n",
       "            (Intr) CndL1m CL2m_d\n",
       "CndtnLbl1ms -0.431              \n",
       "CndtnLb2m_d -0.431  0.500       \n",
       "CndtnLb1m_d -0.431  0.500  0.500"
      ]
     },
     "metadata": {},
     "output_type": "display_data"
    },
    {
     "data": {
      "text/html": [
       "<table>\n",
       "<thead><tr><th scope=col>Estimate</th><th scope=col>Std.Error</th><th scope=col>df</th><th scope=col>t.value</th><th scope=col>p.value</th><th scope=col>R.sqr</th></tr></thead>\n",
       "<tbody>\n",
       "\t<tr><td> 0.21883424 </td><td>0.02850897  </td><td>25.65678    </td><td> 7.6759791  </td><td>4.161203e-08</td><td>0.8346541   </td></tr>\n",
       "\t<tr><td> 0.01815830 </td><td>0.02459483  </td><td>42.00015    </td><td> 0.7382975  </td><td>4.644393e-01</td><td>0.1131894   </td></tr>\n",
       "\t<tr><td>-0.09929279 </td><td>0.02459483  </td><td>42.00015    </td><td>-4.0371402  </td><td>2.245530e-04</td><td>0.5287429   </td></tr>\n",
       "\t<tr><td>-0.09379315 </td><td>0.02459483  </td><td>42.00015    </td><td>-3.8135309  </td><td>4.424386e-04</td><td>0.5071509   </td></tr>\n",
       "</tbody>\n",
       "</table>\n"
      ],
      "text/latex": [
       "\\begin{tabular}{r|llllll}\n",
       " Estimate & Std.Error & df & t.value & p.value & R.sqr\\\\\n",
       "\\hline\n",
       "\t  0.21883424  & 0.02850897   & 25.65678     &  7.6759791   & 4.161203e-08 & 0.8346541   \\\\\n",
       "\t  0.01815830  & 0.02459483   & 42.00015     &  0.7382975   & 4.644393e-01 & 0.1131894   \\\\\n",
       "\t -0.09929279  & 0.02459483   & 42.00015     & -4.0371402   & 2.245530e-04 & 0.5287429   \\\\\n",
       "\t -0.09379315  & 0.02459483   & 42.00015     & -3.8135309   & 4.424386e-04 & 0.5071509   \\\\\n",
       "\\end{tabular}\n"
      ],
      "text/markdown": [
       "\n",
       "Estimate | Std.Error | df | t.value | p.value | R.sqr | \n",
       "|---|---|---|---|\n",
       "|  0.21883424  | 0.02850897   | 25.65678     |  7.6759791   | 4.161203e-08 | 0.8346541    | \n",
       "|  0.01815830  | 0.02459483   | 42.00015     |  0.7382975   | 4.644393e-01 | 0.1131894    | \n",
       "| -0.09929279  | 0.02459483   | 42.00015     | -4.0371402   | 2.245530e-04 | 0.5287429    | \n",
       "| -0.09379315  | 0.02459483   | 42.00015     | -3.8135309   | 4.424386e-04 | 0.5071509    | \n",
       "\n",
       "\n"
      ],
      "text/plain": [
       "  Estimate    Std.Error  df       t.value    p.value      R.sqr    \n",
       "1  0.21883424 0.02850897 25.65678  7.6759791 4.161203e-08 0.8346541\n",
       "2  0.01815830 0.02459483 42.00015  0.7382975 4.644393e-01 0.1131894\n",
       "3 -0.09929279 0.02459483 42.00015 -4.0371402 2.245530e-04 0.5287429\n",
       "4 -0.09379315 0.02459483 42.00015 -3.8135309 4.424386e-04 0.5071509"
      ]
     },
     "metadata": {},
     "output_type": "display_data"
    },
    {
     "data": {
      "image/png": "[encoded data removed]",
      "text/plain": [
       "plot without title"
      ]
     },
     "metadata": {},
     "output_type": "display_data"
    }
   ],
   "source": [
    "# averages per group\n",
    "time.per.condition.plot <- subjective_state_change %>%\n",
    "\n",
    "    # computing observer proportion per condition\n",
    "    group_by(ID, ConditionLabel) %>%\n",
    "    summarise(time.proportion= sum(Duration[TargetCount<2])/BlockDuration[1]) %>%\n",
    "\n",
    "    # Adjusting observers' means following Loftus & Masson (1994)\n",
    "    group_by(ID) %>%\n",
    "    mutate(ID.avg= mean(time.proportion)) %>%\n",
    "    ungroup() %>%\n",
    "    mutate(overall.avg= mean(time.proportion)) %>%\n",
    "    mutate(time.adjusted= time.proportion - ID.avg + overall.avg) %>%\n",
    "\n",
    "    # computing group averages per condition\n",
    "    group_by(ConditionLabel) %>%\n",
    "    summarise(time.avg= mean(time.adjusted*100),\n",
    "              time.serr= sd(time.adjusted*100)/sqrt(n()))\n",
    "\n",
    "# averages per condition x observer for linear mixed models\n",
    "time.per.condition.lmer <- subjective_state_change %>%\n",
    "    # computing observer proportion per condition\n",
    "    group_by(ID, ConditionLabel) %>%\n",
    "    summarise(time.proportion= sum(Duration[TargetCount<2])/BlockDuration[1])\n",
    "\n",
    "# comparison to the baseline condition (M3)\n",
    "duration.lmer <- summary(lmerTest::lmer(time.proportion ~ ConditionLabel + (1|ID), data= time.per.condition.lmer))\n",
    "duration.lmer\n",
    "rcontrast<-function(t, df) {\n",
    "    return (sqrt(t^2/(t^2 + df)))\n",
    "}\n",
    "coefficients.only <- data.frame(duration.lmer$coefficients)\n",
    "colnames(coefficients.only) <- c('Estimate', 'Std.Error', 'df', 't.value', 'p.value')\n",
    "dplyr::mutate(coefficients.only, R.sqr= rcontrast(t.value, df))\n",
    "\n",
    "# plot\n",
    "time.plot <- ggplot(data= time.per.condition.plot, aes(x= ConditionLabel, y= time.avg, ymin= time.avg-time.serr, ymax= time.avg+time.serr))+\n",
    "    geom_errorbar(color= 'darkgreen', width=0.3)+\n",
    "    geom_point(color= 'darkgreen', size= 3) + \n",
    "    ylab('Disappearance time [%]') +\n",
    "    ggtitle('Proportion of time when at least one target was invisible')\n",
    "print(time.plot)"
   ]
  },
  {
   "cell_type": "markdown",
   "metadata": {},
   "source": [
    "## Simultaneity of appearance and disappearance events"
   ]
  },
  {
   "cell_type": "code",
   "execution_count": 46,
   "metadata": {},
   "outputs": [],
   "source": [
    "results <- read.csv(file.path(data.folder, 'Experiment1_Simultaneity.csv'), sep=';')\n",
    "\n",
    "results <- results %>%\n",
    "    # removing irrelevant conditions\n",
    "    filter(ConditionLabel %in% relevant_conditions) %>%\n",
    "\n",
    "    # extracting presence of individual factors from the condition label\n",
    "    mutate(MasksN= str_sub(ConditionLabel, 1,1),\n",
    "           Connected= ifelse(str_sub(ConditionLabel, -4, -1)=='dots', TRUE, FALSE)) %>%\n",
    "\n",
    "    # making sure that factors are represented as factors\n",
    "    mutate(MasksN = as.factor(MasksN), \n",
    "           Connected = as.factor(Connected), \n",
    "           Event= as.factor(Event)) %>%\n",
    " \n",
    "    # ordering conditions for plotting\n",
    "    mutate(ConditionLabel= factor(ConditionLabel, levels= relevant_conditions))"
   ]
  },
  {
   "cell_type": "code",
   "execution_count": 47,
   "metadata": {},
   "outputs": [
    {
     "data": {
      "text/html": [
       "<table>\n",
       "<thead><tr><th></th><th scope=col>Df</th><th scope=col>AIC</th><th scope=col>BIC</th><th scope=col>logLik</th><th scope=col>deviance</th><th scope=col>Chisq</th><th scope=col>Chi Df</th><th scope=col>Pr(&gt;Chisq)</th></tr></thead>\n",
       "<tbody>\n",
       "\t<tr><th scope=row>lm.null</th><td> 3          </td><td>1022.4686   </td><td>1030.6772   </td><td>-508.2343   </td><td>1016.4686   </td><td>         NA </td><td>NA          </td><td>          NA</td></tr>\n",
       "\t<tr><th scope=row>lm.masks</th><td> 4          </td><td> 987.6745   </td><td> 998.6193   </td><td>-489.8373   </td><td> 979.6745   </td><td>36.79408448 </td><td> 1          </td><td>1.312880e-09</td></tr>\n",
       "\t<tr><th scope=row>lm.Connected</th><td> 5          </td><td> 988.8325   </td><td>1002.5135   </td><td>-489.4163   </td><td> 978.8325   </td><td> 0.84199111 </td><td> 1          </td><td>3.588279e-01</td></tr>\n",
       "\t<tr><th scope=row>lm.event</th><td> 6          </td><td> 986.7842   </td><td>1003.2014   </td><td>-487.3921   </td><td> 974.7842   </td><td> 4.04838218 </td><td> 1          </td><td>4.421370e-02</td></tr>\n",
       "\t<tr><th scope=row>lm.mask.connected</th><td> 7          </td><td> 988.7102   </td><td>1007.8636   </td><td>-487.3551   </td><td> 974.7102   </td><td> 0.07398549 </td><td> 1          </td><td>7.856199e-01</td></tr>\n",
       "\t<tr><th scope=row>lm.mask.event</th><td> 8          </td><td> 990.6401   </td><td>1012.5297   </td><td>-487.3201   </td><td> 974.6401   </td><td> 0.07003732 </td><td> 1          </td><td>7.912825e-01</td></tr>\n",
       "\t<tr><th scope=row>lm.connected.event</th><td> 9          </td><td> 992.6092   </td><td>1017.2350   </td><td>-487.3046   </td><td> 974.6092   </td><td> 0.03094939 </td><td> 1          </td><td>8.603533e-01</td></tr>\n",
       "\t<tr><th scope=row>lm.full.interaction</th><td>10          </td><td> 994.4923   </td><td>1021.8543   </td><td>-487.2462   </td><td> 974.4923   </td><td> 0.11688062 </td><td> 1          </td><td>7.324426e-01</td></tr>\n",
       "</tbody>\n",
       "</table>\n"
      ],
      "text/latex": [
       "\\begin{tabular}{r|llllllll}\n",
       "  & Df & AIC & BIC & logLik & deviance & Chisq & Chi Df & Pr(>Chisq)\\\\\n",
       "\\hline\n",
       "\tlm.null &  3           & 1022.4686    & 1030.6772    & -508.2343    & 1016.4686    &          NA  & NA           &           NA\\\\\n",
       "\tlm.masks &  4           &  987.6745    &  998.6193    & -489.8373    &  979.6745    & 36.79408448  &  1           & 1.312880e-09\\\\\n",
       "\tlm.Connected &  5           &  988.8325    & 1002.5135    & -489.4163    &  978.8325    &  0.84199111  &  1           & 3.588279e-01\\\\\n",
       "\tlm.event &  6           &  986.7842    & 1003.2014    & -487.3921    &  974.7842    &  4.04838218  &  1           & 4.421370e-02\\\\\n",
       "\tlm.mask.connected &  7           &  988.7102    & 1007.8636    & -487.3551    &  974.7102    &  0.07398549  &  1           & 7.856199e-01\\\\\n",
       "\tlm.mask.event &  8           &  990.6401    & 1012.5297    & -487.3201    &  974.6401    &  0.07003732  &  1           & 7.912825e-01\\\\\n",
       "\tlm.connected.event &  9           &  992.6092    & 1017.2350    & -487.3046    &  974.6092    &  0.03094939  &  1           & 8.603533e-01\\\\\n",
       "\tlm.full.interaction & 10           &  994.4923    & 1021.8543    & -487.2462    &  974.4923    &  0.11688062  &  1           & 7.324426e-01\\\\\n",
       "\\end{tabular}\n"
      ],
      "text/markdown": [
       "\n",
       "| <!--/--> | Df | AIC | BIC | logLik | deviance | Chisq | Chi Df | Pr(>Chisq) | \n",
       "|---|---|---|---|---|---|---|---|\n",
       "| lm.null |  3           | 1022.4686    | 1030.6772    | -508.2343    | 1016.4686    |          NA  | NA           |           NA | \n",
       "| lm.masks |  4           |  987.6745    |  998.6193    | -489.8373    |  979.6745    | 36.79408448  |  1           | 1.312880e-09 | \n",
       "| lm.Connected |  5           |  988.8325    | 1002.5135    | -489.4163    |  978.8325    |  0.84199111  |  1           | 3.588279e-01 | \n",
       "| lm.event |  6           |  986.7842    | 1003.2014    | -487.3921    |  974.7842    |  4.04838218  |  1           | 4.421370e-02 | \n",
       "| lm.mask.connected |  7           |  988.7102    | 1007.8636    | -487.3551    |  974.7102    |  0.07398549  |  1           | 7.856199e-01 | \n",
       "| lm.mask.event |  8           |  990.6401    | 1012.5297    | -487.3201    |  974.6401    |  0.07003732  |  1           | 7.912825e-01 | \n",
       "| lm.connected.event |  9           |  992.6092    | 1017.2350    | -487.3046    |  974.6092    |  0.03094939  |  1           | 8.603533e-01 | \n",
       "| lm.full.interaction | 10           |  994.4923    | 1021.8543    | -487.2462    |  974.4923    |  0.11688062  |  1           | 7.324426e-01 | \n",
       "\n",
       "\n"
      ],
      "text/plain": [
       "                    Df AIC       BIC       logLik    deviance  Chisq      \n",
       "lm.null              3 1022.4686 1030.6772 -508.2343 1016.4686          NA\n",
       "lm.masks             4  987.6745  998.6193 -489.8373  979.6745 36.79408448\n",
       "lm.Connected         5  988.8325 1002.5135 -489.4163  978.8325  0.84199111\n",
       "lm.event             6  986.7842 1003.2014 -487.3921  974.7842  4.04838218\n",
       "lm.mask.connected    7  988.7102 1007.8636 -487.3551  974.7102  0.07398549\n",
       "lm.mask.event        8  990.6401 1012.5297 -487.3201  974.6401  0.07003732\n",
       "lm.connected.event   9  992.6092 1017.2350 -487.3046  974.6092  0.03094939\n",
       "lm.full.interaction 10  994.4923 1021.8543 -487.2462  974.4923  0.11688062\n",
       "                    Chi Df Pr(>Chisq)  \n",
       "lm.null             NA               NA\n",
       "lm.masks             1     1.312880e-09\n",
       "lm.Connected         1     3.588279e-01\n",
       "lm.event             1     4.421370e-02\n",
       "lm.mask.connected    1     7.856199e-01\n",
       "lm.mask.event        1     7.912825e-01\n",
       "lm.connected.event   1     8.603533e-01\n",
       "lm.full.interaction  1     7.324426e-01"
      ]
     },
     "metadata": {},
     "output_type": "display_data"
    }
   ],
   "source": [
    "sim.events <- results %>%\n",
    "    group_by(ID, Connected, MasksN, Event, ConditionLabel) %>%\n",
    "    summarise(sim.proportion= 100*sum(SimCount>1)/n())\n",
    "sim.events <- data.frame(sim.events)\n",
    "\n",
    "lm.null <- lme4::lmer(sim.proportion ~ 1 + (1|ID), data= sim.events, REML= FALSE)\n",
    "lm.masks <- update(lm.null, .~. + MasksN)\n",
    "lm.Connected <- update(lm.masks, .~. + Connected)\n",
    "lm.event <- update(lm.Connected, .~. + Event)\n",
    "lm.mask.connected <- update(lm.event, .~. + MasksN*Connected)\n",
    "lm.mask.event <- update(lm.mask.connected, .~. + MasksN*Event)\n",
    "lm.connected.event <- update(lm.mask.event, .~. + Connected*Event)\n",
    "lm.full.interaction <- update(lm.connected.event, .~. + MasksN*Connected*Event)\n",
    "anova(lm.null, lm.masks, lm.Connected, lm.event, lm.mask.connected, lm.mask.event, lm.connected.event, lm.full.interaction)"
   ]
  },
  {
   "cell_type": "code",
   "execution_count": 48,
   "metadata": {},
   "outputs": [
    {
     "data": {
      "text/plain": [
       "Bayes factor analysis\n",
       "--------------\n",
       "[1] MasksN + Event + ID                                                                                           : 5671476   ±2.97%\n",
       "[2] MasksN + ID                                                                                                   : 4800470   ±1.33%\n",
       "[3] Connected + MasksN + Event + ID                                                                               : 1574023   ±1.98%\n",
       "[4] MasksN + Event + MasksN:Event + ID                                                                            : 1464969   ±2.56%\n",
       "[5] Connected + MasksN + ID                                                                                       : 1384103   ±1.62%\n",
       "[6] Connected + MasksN + Event + Connected:Event + ID                                                             : 463136.6  ±7.22%\n",
       "[7] Connected + MasksN + Connected:MasksN + Event + ID                                                            : 447673.9  ±3.5%\n",
       "[8] Connected + MasksN + Event + MasksN:Event + ID                                                                : 408713    ±2.74%\n",
       "[9] Connected + MasksN + Connected:MasksN + ID                                                                    : 380317.1  ±2.21%\n",
       "[10] Connected + MasksN + Event + Connected:Event + MasksN:Event + ID                                             : 116609.5  ±3.74%\n",
       "[11] Connected + MasksN + Connected:MasksN + Event + MasksN:Event + ID                                            : 114873.9  ±3.8%\n",
       "[12] Connected + MasksN + Connected:MasksN + Event + Connected:Event + ID                                         : 112510.6  ±3.63%\n",
       "[13] Connected + MasksN + Connected:MasksN + Event + Connected:Event + MasksN:Event + ID                          : 30291.91  ±3.01%\n",
       "[14] Connected + MasksN + Connected:MasksN + Event + Connected:Event + MasksN:Event + Connected:MasksN:Event + ID : 10986.63  ±3.81%\n",
       "[15] Event + ID                                                                                                   : 0.6699041 ±1.26%\n",
       "[16] Connected + ID                                                                                               : 0.3578536 ±1%\n",
       "[17] Connected + Event + ID                                                                                       : 0.2469174 ±2.51%\n",
       "[18] Connected + Event + Connected:Event + ID                                                                     : 0.067147  ±4.01%\n",
       "\n",
       "Against denominator:\n",
       "  sim.proportion ~ ID \n",
       "---\n",
       "Bayes factor type: BFlinearModel, JZS\n"
      ]
     },
     "metadata": {},
     "output_type": "display_data"
    }
   ],
   "source": [
    "set.seed(211122017)\n",
    "sim.bayes <- sort(anovaBF(sim.proportion ~ MasksN+Connected+Event+ID, data= data.frame(sim.events), whichRandom = 'ID'), decreasing = TRUE)\n",
    "sim.bayes"
   ]
  },
  {
   "cell_type": "markdown",
   "metadata": {},
   "source": [
    "As analysis above suggested a significant effect of the event type, looking disappearances (0) and reappearances (1) separately\n",
    "\n",
    "### Disappearances"
   ]
  },
  {
   "cell_type": "code",
   "execution_count": 49,
   "metadata": {},
   "outputs": [
    {
     "data": {
      "text/html": [
       "<table>\n",
       "<thead><tr><th></th><th scope=col>Df</th><th scope=col>AIC</th><th scope=col>BIC</th><th scope=col>logLik</th><th scope=col>deviance</th><th scope=col>Chisq</th><th scope=col>Chi Df</th><th scope=col>Pr(&gt;Chisq)</th></tr></thead>\n",
       "<tbody>\n",
       "\t<tr><th scope=row>lm.null</th><td>3           </td><td>524.5724    </td><td>530.7016    </td><td>-259.2862   </td><td>518.5724    </td><td>        NA  </td><td>NA          </td><td>          NA</td></tr>\n",
       "\t<tr><th scope=row>lm.masks</th><td>4           </td><td>508.2249    </td><td>516.3972    </td><td>-250.1125   </td><td>500.2249    </td><td>18.3474685  </td><td> 1          </td><td>1.840634e-05</td></tr>\n",
       "\t<tr><th scope=row>lm.connected</th><td>5           </td><td>509.8865    </td><td>520.1018    </td><td>-249.9433   </td><td>499.8865    </td><td> 0.3384236  </td><td> 1          </td><td>5.607406e-01</td></tr>\n",
       "\t<tr><th scope=row>lm.mask.connected</th><td>6           </td><td>511.7582    </td><td>524.0165    </td><td>-249.8791   </td><td>499.7582    </td><td> 0.1283027  </td><td> 1          </td><td>7.201984e-01</td></tr>\n",
       "</tbody>\n",
       "</table>\n"
      ],
      "text/latex": [
       "\\begin{tabular}{r|llllllll}\n",
       "  & Df & AIC & BIC & logLik & deviance & Chisq & Chi Df & Pr(>Chisq)\\\\\n",
       "\\hline\n",
       "\tlm.null & 3            & 524.5724     & 530.7016     & -259.2862    & 518.5724     &         NA   & NA           &           NA\\\\\n",
       "\tlm.masks & 4            & 508.2249     & 516.3972     & -250.1125    & 500.2249     & 18.3474685   &  1           & 1.840634e-05\\\\\n",
       "\tlm.connected & 5            & 509.8865     & 520.1018     & -249.9433    & 499.8865     &  0.3384236   &  1           & 5.607406e-01\\\\\n",
       "\tlm.mask.connected & 6            & 511.7582     & 524.0165     & -249.8791    & 499.7582     &  0.1283027   &  1           & 7.201984e-01\\\\\n",
       "\\end{tabular}\n"
      ],
      "text/markdown": [
       "\n",
       "| <!--/--> | Df | AIC | BIC | logLik | deviance | Chisq | Chi Df | Pr(>Chisq) | \n",
       "|---|---|---|---|\n",
       "| lm.null | 3            | 524.5724     | 530.7016     | -259.2862    | 518.5724     |         NA   | NA           |           NA | \n",
       "| lm.masks | 4            | 508.2249     | 516.3972     | -250.1125    | 500.2249     | 18.3474685   |  1           | 1.840634e-05 | \n",
       "| lm.connected | 5            | 509.8865     | 520.1018     | -249.9433    | 499.8865     |  0.3384236   |  1           | 5.607406e-01 | \n",
       "| lm.mask.connected | 6            | 511.7582     | 524.0165     | -249.8791    | 499.7582     |  0.1283027   |  1           | 7.201984e-01 | \n",
       "\n",
       "\n"
      ],
      "text/plain": [
       "                  Df AIC      BIC      logLik    deviance Chisq      Chi Df\n",
       "lm.null           3  524.5724 530.7016 -259.2862 518.5724         NA NA    \n",
       "lm.masks          4  508.2249 516.3972 -250.1125 500.2249 18.3474685  1    \n",
       "lm.connected      5  509.8865 520.1018 -249.9433 499.8865  0.3384236  1    \n",
       "lm.mask.connected 6  511.7582 524.0165 -249.8791 499.7582  0.1283027  1    \n",
       "                  Pr(>Chisq)  \n",
       "lm.null                     NA\n",
       "lm.masks          1.840634e-05\n",
       "lm.connected      5.607406e-01\n",
       "lm.mask.connected 7.201984e-01"
      ]
     },
     "metadata": {},
     "output_type": "display_data"
    },
    {
     "data": {
      "text/plain": [
       "Bayes factor analysis\n",
       "--------------\n",
       "[1] MasksN + ID                                : 691.921   ±3.05%\n",
       "[2] Connected + MasksN + ID                    : 208.2029  ±1.45%\n",
       "[3] Connected + MasksN + Connected:MasksN + ID : 73.06162  ±2.53%\n",
       "[4] Connected + ID                             : 0.3268039 ±1.23%\n",
       "\n",
       "Against denominator:\n",
       "  sim.proportion ~ ID \n",
       "---\n",
       "Bayes factor type: BFlinearModel, JZS\n"
      ]
     },
     "metadata": {},
     "output_type": "display_data"
    }
   ],
   "source": [
    "sim.disappearance <- sim.events %>%\n",
    "    filter(Event==0)\n",
    "\n",
    "lm.null <- lme4::lmer(sim.proportion ~ 1 + (1|ID), data= sim.disappearance, REML= FALSE)\n",
    "lm.masks <- update(lm.null, .~. + MasksN)\n",
    "lm.connected <- update(lm.masks, .~. + Connected)\n",
    "lm.mask.connected <- update(lm.connected, .~. + MasksN*Connected)\n",
    "anova(lm.null, lm.masks, lm.connected, lm.mask.connected)\n",
    "\n",
    "set.seed(311122017)\n",
    "sim.bayes <- sort(anovaBF(sim.proportion ~ MasksN+Connected+ID, data= data.frame(sim.disappearance), whichRandom = 'ID'), decreasing = TRUE)\n",
    "sim.bayes"
   ]
  },
  {
   "cell_type": "code",
   "execution_count": 59,
   "metadata": {},
   "outputs": [
    {
     "data": {
      "text/plain": [
       "Linear mixed model fit by REML t-tests use Satterthwaite approximations to\n",
       "  degrees of freedom [lmerMod]\n",
       "Formula: sim.proportion ~ ConditionLabel + (1 | ID)\n",
       "   Data: sim.disappearance\n",
       "\n",
       "REML criterion at convergence: 479.2\n",
       "\n",
       "Scaled residuals: \n",
       "     Min       1Q   Median       3Q      Max \n",
       "-2.24797 -0.64125  0.05682  0.44755  2.52546 \n",
       "\n",
       "Random effects:\n",
       " Groups   Name        Variance Std.Dev.\n",
       " ID       (Intercept) 372.4    19.30   \n",
       " Residual             244.7    15.64   \n",
       "Number of obs: 57, groups:  ID, 15\n",
       "\n",
       "Fixed effects:\n",
       "                                     Estimate Std. Error     df t value\n",
       "(Intercept)                            27.636      6.414 26.180   4.309\n",
       "ConditionLabel1 mask                   17.888      5.712 38.960   3.132\n",
       "ConditionLabel2 masks_connected dots    0.798      6.149 39.440   0.130\n",
       "ConditionLabel1 mask_connected dots    21.586      5.712 38.960   3.779\n",
       "                                     Pr(>|t|)    \n",
       "(Intercept)                          0.000206 ***\n",
       "ConditionLabel1 mask                 0.003290 ** \n",
       "ConditionLabel2 masks_connected dots 0.897408    \n",
       "ConditionLabel1 mask_connected dots  0.000527 ***\n",
       "---\n",
       "Signif. codes:  0 '***' 0.001 '**' 0.01 '*' 0.05 '.' 0.1 ' ' 1\n",
       "\n",
       "Correlation of Fixed Effects:\n",
       "            (Intr) CndL1m CL2m_d\n",
       "CndtnLbl1ms -0.445              \n",
       "CndtnLb2m_d -0.414  0.464       \n",
       "CndtnLb1m_d -0.445  0.500  0.464"
      ]
     },
     "metadata": {},
     "output_type": "display_data"
    },
    {
     "data": {
      "text/html": [
       "<table>\n",
       "<thead><tr><th scope=col>Estimate</th><th scope=col>Std.Error</th><th scope=col>df</th><th scope=col>t.value</th><th scope=col>p.value</th><th scope=col>R.sqr</th></tr></thead>\n",
       "<tbody>\n",
       "\t<tr><td>27.6361504  </td><td>6.414040    </td><td>26.17711    </td><td>4.3086963   </td><td>0.0002057154</td><td>0.64415191  </td></tr>\n",
       "\t<tr><td>17.8882380  </td><td>5.711582    </td><td>38.95529    </td><td>3.1319236   </td><td>0.0032900267</td><td>0.44849795  </td></tr>\n",
       "\t<tr><td> 0.7980086  </td><td>6.149391    </td><td>39.44228    </td><td>0.1297703   </td><td>0.8974076819</td><td>0.02065864  </td></tr>\n",
       "\t<tr><td>21.5856910  </td><td>5.711582    </td><td>38.95529    </td><td>3.7792842   </td><td>0.0005271502</td><td>0.51796159  </td></tr>\n",
       "</tbody>\n",
       "</table>\n"
      ],
      "text/latex": [
       "\\begin{tabular}{r|llllll}\n",
       " Estimate & Std.Error & df & t.value & p.value & R.sqr\\\\\n",
       "\\hline\n",
       "\t 27.6361504   & 6.414040     & 26.17711     & 4.3086963    & 0.0002057154 & 0.64415191  \\\\\n",
       "\t 17.8882380   & 5.711582     & 38.95529     & 3.1319236    & 0.0032900267 & 0.44849795  \\\\\n",
       "\t  0.7980086   & 6.149391     & 39.44228     & 0.1297703    & 0.8974076819 & 0.02065864  \\\\\n",
       "\t 21.5856910   & 5.711582     & 38.95529     & 3.7792842    & 0.0005271502 & 0.51796159  \\\\\n",
       "\\end{tabular}\n"
      ],
      "text/markdown": [
       "\n",
       "Estimate | Std.Error | df | t.value | p.value | R.sqr | \n",
       "|---|---|---|---|\n",
       "| 27.6361504   | 6.414040     | 26.17711     | 4.3086963    | 0.0002057154 | 0.64415191   | \n",
       "| 17.8882380   | 5.711582     | 38.95529     | 3.1319236    | 0.0032900267 | 0.44849795   | \n",
       "|  0.7980086   | 6.149391     | 39.44228     | 0.1297703    | 0.8974076819 | 0.02065864   | \n",
       "| 21.5856910   | 5.711582     | 38.95529     | 3.7792842    | 0.0005271502 | 0.51796159   | \n",
       "\n",
       "\n"
      ],
      "text/plain": [
       "  Estimate   Std.Error df       t.value   p.value      R.sqr     \n",
       "1 27.6361504 6.414040  26.17711 4.3086963 0.0002057154 0.64415191\n",
       "2 17.8882380 5.711582  38.95529 3.1319236 0.0032900267 0.44849795\n",
       "3  0.7980086 6.149391  39.44228 0.1297703 0.8974076819 0.02065864\n",
       "4 21.5856910 5.711582  38.95529 3.7792842 0.0005271502 0.51796159"
      ]
     },
     "metadata": {},
     "output_type": "display_data"
    },
    {
     "data": {
      "image/png": "[encoded data removed]",
      "text/plain": [
       "plot without title"
      ]
     },
     "metadata": {},
     "output_type": "display_data"
    }
   ],
   "source": [
    "# averages per group\n",
    "sim.per.condition.plot <- sim.disappearance %>%\n",
    "    # Adjusting observers' means following Loftus & Masson (1994)\n",
    "    group_by(ID) %>%\n",
    "    mutate(ID.avg= mean(sim.proportion)) %>%\n",
    "    ungroup() %>%\n",
    "    mutate(overall.avg= mean(sim.proportion)) %>%\n",
    "    mutate(sim.adjusted= sim.proportion - ID.avg + overall.avg) %>%\n",
    "\n",
    "    # computing group averages per condition\n",
    "    group_by(ConditionLabel) %>%\n",
    "    summarise(sim.avg= mean(sim.adjusted),\n",
    "              sim.serr= sd(sim.adjusted)/sqrt(n()))\n",
    "\n",
    "# comparison to the baseline condition (M3)\n",
    "sim.lmer <- summary(lmerTest::lmer(sim.proportion ~ ConditionLabel + (1|ID), data= sim.disappearance))\n",
    "sim.lmer\n",
    "rcontrast<-function(t, df) {\n",
    "    return (sqrt(t^2/(t^2 + df)))\n",
    "}\n",
    "coefficients.only <- data.frame(sim.lmer$coefficients)\n",
    "colnames(coefficients.only) <- c('Estimate', 'Std.Error', 'df', 't.value', 'p.value')\n",
    "dplyr::mutate(coefficients.only, R.sqr= rcontrast(t.value, df))\n",
    "\n",
    "# plot\n",
    "sim.plot <- ggplot(data= sim.per.condition.plot, aes(x= ConditionLabel, y= sim.avg, ymin= sim.avg-sim.serr, ymax= sim.avg+sim.serr))+\n",
    "    geom_errorbar(color= 'red', width=0.3)+\n",
    "    geom_point(color= 'red', size= 3) + \n",
    "    ylab('Simultaneity [%]') +\n",
    "    ylim(24, 59) + \n",
    "    ggtitle('Simultaneity of disappearance events')\n",
    "print(sim.plot)"
   ]
  },
  {
   "cell_type": "markdown",
   "metadata": {},
   "source": [
    "### Reappearances"
   ]
  },
  {
   "cell_type": "code",
   "execution_count": 51,
   "metadata": {},
   "outputs": [
    {
     "data": {
      "text/html": [
       "<table>\n",
       "<thead><tr><th></th><th scope=col>Df</th><th scope=col>AIC</th><th scope=col>BIC</th><th scope=col>logLik</th><th scope=col>deviance</th><th scope=col>Chisq</th><th scope=col>Chi Df</th><th scope=col>Pr(&gt;Chisq)</th></tr></thead>\n",
       "<tbody>\n",
       "\t<tr><th scope=row>lm.null</th><td>3           </td><td>524.0517    </td><td>530.1809    </td><td>-259.0259   </td><td>518.0517    </td><td>          NA</td><td>NA          </td><td>          NA</td></tr>\n",
       "\t<tr><th scope=row>lm.masks</th><td>4           </td><td>509.7276    </td><td>517.8998    </td><td>-250.8638   </td><td>501.7276    </td><td>1.632415e+01</td><td> 1          </td><td>5.337927e-05</td></tr>\n",
       "\t<tr><th scope=row>lm.connected</th><td>5           </td><td>511.2381    </td><td>521.4534    </td><td>-250.6191   </td><td>501.2381    </td><td>4.894435e-01</td><td> 1          </td><td>4.841757e-01</td></tr>\n",
       "\t<tr><th scope=row>lm.mask.connected</th><td>6           </td><td>513.2381    </td><td>525.4964    </td><td>-250.6190   </td><td>501.2381    </td><td>3.679103e-05</td><td> 1          </td><td>9.951604e-01</td></tr>\n",
       "</tbody>\n",
       "</table>\n"
      ],
      "text/latex": [
       "\\begin{tabular}{r|llllllll}\n",
       "  & Df & AIC & BIC & logLik & deviance & Chisq & Chi Df & Pr(>Chisq)\\\\\n",
       "\\hline\n",
       "\tlm.null & 3            & 524.0517     & 530.1809     & -259.0259    & 518.0517     &           NA & NA           &           NA\\\\\n",
       "\tlm.masks & 4            & 509.7276     & 517.8998     & -250.8638    & 501.7276     & 1.632415e+01 &  1           & 5.337927e-05\\\\\n",
       "\tlm.connected & 5            & 511.2381     & 521.4534     & -250.6191    & 501.2381     & 4.894435e-01 &  1           & 4.841757e-01\\\\\n",
       "\tlm.mask.connected & 6            & 513.2381     & 525.4964     & -250.6190    & 501.2381     & 3.679103e-05 &  1           & 9.951604e-01\\\\\n",
       "\\end{tabular}\n"
      ],
      "text/markdown": [
       "\n",
       "| <!--/--> | Df | AIC | BIC | logLik | deviance | Chisq | Chi Df | Pr(>Chisq) | \n",
       "|---|---|---|---|\n",
       "| lm.null | 3            | 524.0517     | 530.1809     | -259.0259    | 518.0517     |           NA | NA           |           NA | \n",
       "| lm.masks | 4            | 509.7276     | 517.8998     | -250.8638    | 501.7276     | 1.632415e+01 |  1           | 5.337927e-05 | \n",
       "| lm.connected | 5            | 511.2381     | 521.4534     | -250.6191    | 501.2381     | 4.894435e-01 |  1           | 4.841757e-01 | \n",
       "| lm.mask.connected | 6            | 513.2381     | 525.4964     | -250.6190    | 501.2381     | 3.679103e-05 |  1           | 9.951604e-01 | \n",
       "\n",
       "\n"
      ],
      "text/plain": [
       "                  Df AIC      BIC      logLik    deviance Chisq        Chi Df\n",
       "lm.null           3  524.0517 530.1809 -259.0259 518.0517           NA NA    \n",
       "lm.masks          4  509.7276 517.8998 -250.8638 501.7276 1.632415e+01  1    \n",
       "lm.connected      5  511.2381 521.4534 -250.6191 501.2381 4.894435e-01  1    \n",
       "lm.mask.connected 6  513.2381 525.4964 -250.6190 501.2381 3.679103e-05  1    \n",
       "                  Pr(>Chisq)  \n",
       "lm.null                     NA\n",
       "lm.masks          5.337927e-05\n",
       "lm.connected      4.841757e-01\n",
       "lm.mask.connected 9.951604e-01"
      ]
     },
     "metadata": {},
     "output_type": "display_data"
    },
    {
     "data": {
      "text/plain": [
       "Bayes factor analysis\n",
       "--------------\n",
       "[1] MasksN + ID                                : 274.2803  ±0.83%\n",
       "[2] Connected + MasksN + ID                    : 92.78982  ±2.99%\n",
       "[3] Connected + MasksN + Connected:MasksN + ID : 33.42646  ±4.21%\n",
       "[4] Connected + ID                             : 0.3474284 ±0.92%\n",
       "\n",
       "Against denominator:\n",
       "  sim.proportion ~ ID \n",
       "---\n",
       "Bayes factor type: BFlinearModel, JZS\n"
      ]
     },
     "metadata": {},
     "output_type": "display_data"
    }
   ],
   "source": [
    "sim.reappearance <- sim.events %>%\n",
    "    filter(Event==1)\n",
    "\n",
    "lm.null <- lme4::lmer(sim.proportion ~ 1 + (1|ID), data= sim.reappearance, REML= FALSE)\n",
    "lm.masks <- update(lm.null, .~. + MasksN)\n",
    "lm.connected <- update(lm.masks, .~. + Connected)\n",
    "lm.mask.connected <- update(lm.connected, .~. + MasksN*Connected)\n",
    "anova(lm.null, lm.masks, lm.connected, lm.mask.connected)\n",
    "\n",
    "set.seed(411122017)\n",
    "sim.bayes <- sort(anovaBF(sim.proportion ~ MasksN+Connected+ID, data= data.frame(sim.reappearance), whichRandom = 'ID'), decreasing = TRUE)\n",
    "sim.bayes"
   ]
  },
  {
   "cell_type": "code",
   "execution_count": 60,
   "metadata": {},
   "outputs": [
    {
     "data": {
      "text/plain": [
       "Linear mixed model fit by REML t-tests use Satterthwaite approximations to\n",
       "  degrees of freedom [lmerMod]\n",
       "Formula: sim.proportion ~ ConditionLabel + (1 | ID)\n",
       "   Data: sim.reappearance\n",
       "\n",
       "REML criterion at convergence: 480.6\n",
       "\n",
       "Scaled residuals: \n",
       "     Min       1Q   Median       3Q      Max \n",
       "-2.24585 -0.69727  0.06446  0.41513  2.40667 \n",
       "\n",
       "Random effects:\n",
       " Groups   Name        Variance Std.Dev.\n",
       " ID       (Intercept) 377.3    19.42   \n",
       " Residual             252.0    15.88   \n",
       "Number of obs: 57, groups:  ID, 15\n",
       "\n",
       "Fixed effects:\n",
       "                                     Estimate Std. Error     df t value\n",
       "(Intercept)                            32.654      6.477 26.340   5.041\n",
       "ConditionLabel1 mask                   18.152      5.797 38.940   3.131\n",
       "ConditionLabel2 masks_connected dots    2.845      6.241 39.440   0.456\n",
       "ConditionLabel1 mask_connected dots    21.047      5.797 38.940   3.631\n",
       "                                     Pr(>|t|)    \n",
       "(Intercept)                          2.91e-05 ***\n",
       "ConditionLabel1 mask                 0.003296 ** \n",
       "ConditionLabel2 masks_connected dots 0.650967    \n",
       "ConditionLabel1 mask_connected dots  0.000813 ***\n",
       "---\n",
       "Signif. codes:  0 '***' 0.001 '**' 0.01 '*' 0.05 '.' 0.1 ' ' 1\n",
       "\n",
       "Correlation of Fixed Effects:\n",
       "            (Intr) CndL1m CL2m_d\n",
       "CndtnLbl1ms -0.447              \n",
       "CndtnLb2m_d -0.416  0.464       \n",
       "CndtnLb1m_d -0.447  0.500  0.464"
      ]
     },
     "metadata": {},
     "output_type": "display_data"
    },
    {
     "data": {
      "text/html": [
       "<table>\n",
       "<thead><tr><th scope=col>Estimate</th><th scope=col>Std.Error</th><th scope=col>df</th><th scope=col>t.value</th><th scope=col>p.value</th><th scope=col>R.sqr</th></tr></thead>\n",
       "<tbody>\n",
       "\t<tr><td>32.654487   </td><td>6.477446    </td><td>26.33633    </td><td>5.0412599   </td><td>2.912214e-05</td><td>0.70077928  </td></tr>\n",
       "\t<tr><td>18.152460   </td><td>5.796992    </td><td>38.94202    </td><td>3.1313586   </td><td>3.295694e-03</td><td>0.44849432  </td></tr>\n",
       "\t<tr><td> 2.845265   </td><td>6.241072    </td><td>39.43575    </td><td>0.4558937   </td><td>6.509670e-01</td><td>0.07240643  </td></tr>\n",
       "\t<tr><td>21.046824   </td><td>5.796992    </td><td>38.94202    </td><td>3.6306460   </td><td>8.126877e-04</td><td>0.50288264  </td></tr>\n",
       "</tbody>\n",
       "</table>\n"
      ],
      "text/latex": [
       "\\begin{tabular}{r|llllll}\n",
       " Estimate & Std.Error & df & t.value & p.value & R.sqr\\\\\n",
       "\\hline\n",
       "\t 32.654487    & 6.477446     & 26.33633     & 5.0412599    & 2.912214e-05 & 0.70077928  \\\\\n",
       "\t 18.152460    & 5.796992     & 38.94202     & 3.1313586    & 3.295694e-03 & 0.44849432  \\\\\n",
       "\t  2.845265    & 6.241072     & 39.43575     & 0.4558937    & 6.509670e-01 & 0.07240643  \\\\\n",
       "\t 21.046824    & 5.796992     & 38.94202     & 3.6306460    & 8.126877e-04 & 0.50288264  \\\\\n",
       "\\end{tabular}\n"
      ],
      "text/markdown": [
       "\n",
       "Estimate | Std.Error | df | t.value | p.value | R.sqr | \n",
       "|---|---|---|---|\n",
       "| 32.654487    | 6.477446     | 26.33633     | 5.0412599    | 2.912214e-05 | 0.70077928   | \n",
       "| 18.152460    | 5.796992     | 38.94202     | 3.1313586    | 3.295694e-03 | 0.44849432   | \n",
       "|  2.845265    | 6.241072     | 39.43575     | 0.4558937    | 6.509670e-01 | 0.07240643   | \n",
       "| 21.046824    | 5.796992     | 38.94202     | 3.6306460    | 8.126877e-04 | 0.50288264   | \n",
       "\n",
       "\n"
      ],
      "text/plain": [
       "  Estimate  Std.Error df       t.value   p.value      R.sqr     \n",
       "1 32.654487 6.477446  26.33633 5.0412599 2.912214e-05 0.70077928\n",
       "2 18.152460 5.796992  38.94202 3.1313586 3.295694e-03 0.44849432\n",
       "3  2.845265 6.241072  39.43575 0.4558937 6.509670e-01 0.07240643\n",
       "4 21.046824 5.796992  38.94202 3.6306460 8.126877e-04 0.50288264"
      ]
     },
     "metadata": {},
     "output_type": "display_data"
    },
    {
     "data": {
      "image/png": "[encoded data removed]",
      "text/plain": [
       "plot without title"
      ]
     },
     "metadata": {},
     "output_type": "display_data"
    }
   ],
   "source": [
    "# averages per group\n",
    "sim.per.condition.plot <- sim.reappearance %>%\n",
    "    # Adjusting observers' means following Loftus & Masson (1994)\n",
    "    group_by(ID) %>%\n",
    "    mutate(ID.avg= mean(sim.proportion)) %>%\n",
    "    ungroup() %>%\n",
    "    mutate(overall.avg= mean(sim.proportion)) %>%\n",
    "    mutate(sim.adjusted= sim.proportion - ID.avg + overall.avg) %>%\n",
    "\n",
    "    # computing group averages per condition\n",
    "    group_by(ConditionLabel) %>%\n",
    "    summarise(sim.avg= mean(sim.adjusted),\n",
    "              sim.serr= sd(sim.adjusted)/sqrt(n()))\n",
    "\n",
    "# comparison to the baseline condition (M3)\n",
    "sim.lmer <- summary(lmerTest::lmer(sim.proportion ~ ConditionLabel + (1|ID), data= sim.reappearance))\n",
    "sim.lmer\n",
    "rcontrast<-function(t, df) {\n",
    "    return (sqrt(t^2/(t^2 + df)))\n",
    "}\n",
    "coefficients.only <- data.frame(sim.lmer$coefficients)\n",
    "colnames(coefficients.only) <- c('Estimate', 'Std.Error', 'df', 't.value', 'p.value')\n",
    "dplyr::mutate(coefficients.only, R.sqr= rcontrast(t.value, df))\n",
    "\n",
    "# plot\n",
    "sim.plot <- ggplot(data= sim.per.condition.plot, aes(x= ConditionLabel, y= sim.avg, ymin= sim.avg-sim.serr, ymax= sim.avg+sim.serr))+\n",
    "    geom_errorbar(color= 'red', width=0.3)+\n",
    "    geom_point(color= 'red', size= 3) + \n",
    "    ylab('Simultaneity [%]') +\n",
    "    ylim(24, 59) + \n",
    "    ggtitle('Simultaneity of reappearance events')\n",
    "print(sim.plot)"
   ]
  },
  {
   "cell_type": "markdown",
   "metadata": {},
   "source": [
    "## Analysis of disappearance duration: average disappearance across all targets"
   ]
  },
  {
   "cell_type": "code",
   "execution_count": 53,
   "metadata": {},
   "outputs": [],
   "source": [
    "responses <- read.csv(file.path(data.folder, 'Experiment1_Response.csv'), sep=';')\n",
    "\n",
    "responses <- responses %>%\n",
    "    # removing irrelevant conditions\n",
    "    filter(ConditionLabel %in% relevant_conditions) %>%\n",
    "\n",
    "    # extracting presence of individual factors from the condition label\n",
    "    mutate(MasksN= str_sub(ConditionLabel, 1,1),\n",
    "           Connected= ifelse(str_sub(ConditionLabel, -4, -1)=='dots', TRUE, FALSE)) %>%\n",
    "\n",
    "    # making sure that factors are represented as factors\n",
    "    mutate(MasksN = as.factor(MasksN), \n",
    "           Connected = as.factor(Connected)) %>%\n",
    " \n",
    "    # ordering conditions for plotting\n",
    "    mutate(ConditionLabel= factor(ConditionLabel, levels= relevant_conditions))\n",
    "\n",
    "# computing block duration \n",
    "block.duration <- responses %>%\n",
    "    filter(EventLabel %in% c('Block start', 'Block end')) %>%\n",
    "    group_by(ID, Block) %>%\n",
    "    summarise(Block.Duration= Time[2]-Time[1])\n",
    "responses <- responses %>% \n",
    "    left_join(block.duration, by = c('ID', 'Block'))\n",
    "\n",
    "# computing disappearance time\n",
    "disappearance.across.targets <- responses %>% \n",
    "    # only for real target events\n",
    "    filter(Target %in% c(0, 1)) %>% \n",
    "\n",
    "    # computing disappearance for individual targets\n",
    "    group_by(ID, Block, MasksN, Connected, Target, ConditionLabel) %>%\n",
    "    summarise(disapp.prop = 100*sum(Time[EventLabel=='Released']-Time[EventLabel=='Pressed'])/Block.Duration[1]) %>%\n",
    "  \n",
    "    # average across all of them\n",
    "    group_by(ID, Connected, MasksN, ConditionLabel) %>%\n",
    "    summarise(time.proportion = mean(disapp.prop))\n",
    "disappearance.across.targets <- data.frame(disappearance.across.targets)"
   ]
  },
  {
   "cell_type": "code",
   "execution_count": 54,
   "metadata": {},
   "outputs": [
    {
     "data": {
      "text/html": [
       "<table>\n",
       "<thead><tr><th></th><th scope=col>Df</th><th scope=col>AIC</th><th scope=col>BIC</th><th scope=col>logLik</th><th scope=col>deviance</th><th scope=col>Chisq</th><th scope=col>Chi Df</th><th scope=col>Pr(&gt;Chisq)</th></tr></thead>\n",
       "<tbody>\n",
       "\t<tr><th scope=row>lm.null</th><td>3           </td><td>404.7365    </td><td>410.8656    </td><td>-199.3682   </td><td>398.7365    </td><td>         NA </td><td>NA          </td><td>          NA</td></tr>\n",
       "\t<tr><th scope=row>lm.masks</th><td>4           </td><td>406.6856    </td><td>414.8578    </td><td>-199.3428   </td><td>398.6856    </td><td> 0.05089644 </td><td> 1          </td><td>8.215107e-01</td></tr>\n",
       "\t<tr><th scope=row>lm.connected</th><td>5           </td><td>391.6285    </td><td>401.8437    </td><td>-190.8142   </td><td>381.6285    </td><td>17.05711099 </td><td> 1          </td><td>3.627229e-05</td></tr>\n",
       "\t<tr><th scope=row>lm.interaction</th><td>6           </td><td>393.3870    </td><td>405.6453    </td><td>-190.6935   </td><td>381.3870    </td><td> 0.24147834 </td><td> 1          </td><td>6.231404e-01</td></tr>\n",
       "</tbody>\n",
       "</table>\n"
      ],
      "text/latex": [
       "\\begin{tabular}{r|llllllll}\n",
       "  & Df & AIC & BIC & logLik & deviance & Chisq & Chi Df & Pr(>Chisq)\\\\\n",
       "\\hline\n",
       "\tlm.null & 3            & 404.7365     & 410.8656     & -199.3682    & 398.7365     &          NA  & NA           &           NA\\\\\n",
       "\tlm.masks & 4            & 406.6856     & 414.8578     & -199.3428    & 398.6856     &  0.05089644  &  1           & 8.215107e-01\\\\\n",
       "\tlm.connected & 5            & 391.6285     & 401.8437     & -190.8142    & 381.6285     & 17.05711099  &  1           & 3.627229e-05\\\\\n",
       "\tlm.interaction & 6            & 393.3870     & 405.6453     & -190.6935    & 381.3870     &  0.24147834  &  1           & 6.231404e-01\\\\\n",
       "\\end{tabular}\n"
      ],
      "text/markdown": [
       "\n",
       "| <!--/--> | Df | AIC | BIC | logLik | deviance | Chisq | Chi Df | Pr(>Chisq) | \n",
       "|---|---|---|---|\n",
       "| lm.null | 3            | 404.7365     | 410.8656     | -199.3682    | 398.7365     |          NA  | NA           |           NA | \n",
       "| lm.masks | 4            | 406.6856     | 414.8578     | -199.3428    | 398.6856     |  0.05089644  |  1           | 8.215107e-01 | \n",
       "| lm.connected | 5            | 391.6285     | 401.8437     | -190.8142    | 381.6285     | 17.05711099  |  1           | 3.627229e-05 | \n",
       "| lm.interaction | 6            | 393.3870     | 405.6453     | -190.6935    | 381.3870     |  0.24147834  |  1           | 6.231404e-01 | \n",
       "\n",
       "\n"
      ],
      "text/plain": [
       "               Df AIC      BIC      logLik    deviance Chisq       Chi Df\n",
       "lm.null        3  404.7365 410.8656 -199.3682 398.7365          NA NA    \n",
       "lm.masks       4  406.6856 414.8578 -199.3428 398.6856  0.05089644  1    \n",
       "lm.connected   5  391.6285 401.8437 -190.8142 381.6285 17.05711099  1    \n",
       "lm.interaction 6  393.3870 405.6453 -190.6935 381.3870  0.24147834  1    \n",
       "               Pr(>Chisq)  \n",
       "lm.null                  NA\n",
       "lm.masks       8.215107e-01\n",
       "lm.connected   3.627229e-05\n",
       "lm.interaction 6.231404e-01"
      ]
     },
     "metadata": {},
     "output_type": "display_data"
    }
   ],
   "source": [
    "lm.null <- lme4::lmer(time.proportion ~ 1 + (1|ID), data= disappearance.across.targets, REML= FALSE)\n",
    "lm.masks <- update(lm.null, .~. + MasksN)\n",
    "lm.connected <- update(lm.masks, .~. + Connected)\n",
    "lm.interaction <- update(lm.connected, .~. + MasksN*Connected)\n",
    "anova(lm.null, lm.masks, lm.connected, lm.interaction)"
   ]
  },
  {
   "cell_type": "code",
   "execution_count": 55,
   "metadata": {},
   "outputs": [
    {
     "data": {
      "text/plain": [
       "Bayes factor analysis\n",
       "--------------\n",
       "[1] Connected + ID                             : 413.149   ±8.37%\n",
       "[2] Connected + MasksN + ID                    : 130.7431  ±12.16%\n",
       "[3] Connected + MasksN + Connected:MasksN + ID : 44.69304  ±3.52%\n",
       "[4] MasksN + ID                                : 0.2726977 ±1.22%\n",
       "\n",
       "Against denominator:\n",
       "  time.proportion ~ ID \n",
       "---\n",
       "Bayes factor type: BFlinearModel, JZS\n"
      ]
     },
     "metadata": {},
     "output_type": "display_data"
    }
   ],
   "source": [
    "set.seed(511122017)\n",
    "duration.bayes <- sort(anovaBF(time.proportion ~ MasksN + Connected + ID, data= disappearance.across.targets, whichRandom = 'ID'), \n",
    "                       decreasing = TRUE)\n",
    "duration.bayes"
   ]
  },
  {
   "cell_type": "code",
   "execution_count": 57,
   "metadata": {},
   "outputs": [
    {
     "data": {
      "text/plain": [
       "Linear mixed model fit by REML t-tests use Satterthwaite approximations to\n",
       "  degrees of freedom [lmerMod]\n",
       "Formula: time.proportion ~ ConditionLabel + (1 | ID)\n",
       "   Data: disappearance.across.targets\n",
       "\n",
       "REML criterion at convergence: 369.1\n",
       "\n",
       "Scaled residuals: \n",
       "     Min       1Q   Median       3Q      Max \n",
       "-1.60158 -0.56065 -0.03577  0.41339  2.68133 \n",
       "\n",
       "Random effects:\n",
       " Groups   Name        Variance Std.Dev.\n",
       " ID       (Intercept) 32.90    5.736   \n",
       " Residual             33.77    5.811   \n",
       "Number of obs: 57, groups:  ID, 15\n",
       "\n",
       "Fixed effects:\n",
       "                                     Estimate Std. Error     df t value\n",
       "(Intercept)                            15.371      2.108 31.330   7.291\n",
       "ConditionLabel1 mask                    1.640      2.122 38.880   0.773\n",
       "ConditionLabel2 masks_connected dots   -6.163      2.281 39.560  -2.701\n",
       "ConditionLabel1 mask_connected dots    -6.001      2.122 38.880  -2.828\n",
       "                                     Pr(>|t|)    \n",
       "(Intercept)                          3.12e-08 ***\n",
       "ConditionLabel1 mask                  0.44430    \n",
       "ConditionLabel2 masks_connected dots  0.01012 *  \n",
       "ConditionLabel1 mask_connected dots   0.00736 ** \n",
       "---\n",
       "Signif. codes:  0 '***' 0.001 '**' 0.01 '*' 0.05 '.' 0.1 ' ' 1\n",
       "\n",
       "Correlation of Fixed Effects:\n",
       "            (Intr) CndL1m CL2m_d\n",
       "CndtnLbl1ms -0.503              \n",
       "CndtnLb2m_d -0.468  0.465       \n",
       "CndtnLb1m_d -0.503  0.500  0.465"
      ]
     },
     "metadata": {},
     "output_type": "display_data"
    },
    {
     "data": {
      "text/html": [
       "<table>\n",
       "<thead><tr><th scope=col>Estimate</th><th scope=col>Std.Error</th><th scope=col>df</th><th scope=col>t.value</th><th scope=col>p.value</th><th scope=col>R.sqr</th></tr></thead>\n",
       "<tbody>\n",
       "\t<tr><td>15.370725   </td><td>2.108155    </td><td>31.32668    </td><td> 7.2910773  </td><td>3.124830e-08</td><td>0.7932281   </td></tr>\n",
       "\t<tr><td> 1.639835   </td><td>2.121880    </td><td>38.87702    </td><td> 0.7728216  </td><td>4.443013e-01</td><td>0.1230048   </td></tr>\n",
       "\t<tr><td>-6.162625   </td><td>2.281435    </td><td>39.56169    </td><td>-2.7012051  </td><td>1.012084e-02</td><td>0.3946070   </td></tr>\n",
       "\t<tr><td>-6.001386   </td><td>2.121880    </td><td>38.87702    </td><td>-2.8283337  </td><td>7.360145e-03</td><td>0.4130980   </td></tr>\n",
       "</tbody>\n",
       "</table>\n"
      ],
      "text/latex": [
       "\\begin{tabular}{r|llllll}\n",
       " Estimate & Std.Error & df & t.value & p.value & R.sqr\\\\\n",
       "\\hline\n",
       "\t 15.370725    & 2.108155     & 31.32668     &  7.2910773   & 3.124830e-08 & 0.7932281   \\\\\n",
       "\t  1.639835    & 2.121880     & 38.87702     &  0.7728216   & 4.443013e-01 & 0.1230048   \\\\\n",
       "\t -6.162625    & 2.281435     & 39.56169     & -2.7012051   & 1.012084e-02 & 0.3946070   \\\\\n",
       "\t -6.001386    & 2.121880     & 38.87702     & -2.8283337   & 7.360145e-03 & 0.4130980   \\\\\n",
       "\\end{tabular}\n"
      ],
      "text/markdown": [
       "\n",
       "Estimate | Std.Error | df | t.value | p.value | R.sqr | \n",
       "|---|---|---|---|\n",
       "| 15.370725    | 2.108155     | 31.32668     |  7.2910773   | 3.124830e-08 | 0.7932281    | \n",
       "|  1.639835    | 2.121880     | 38.87702     |  0.7728216   | 4.443013e-01 | 0.1230048    | \n",
       "| -6.162625    | 2.281435     | 39.56169     | -2.7012051   | 1.012084e-02 | 0.3946070    | \n",
       "| -6.001386    | 2.121880     | 38.87702     | -2.8283337   | 7.360145e-03 | 0.4130980    | \n",
       "\n",
       "\n"
      ],
      "text/plain": [
       "  Estimate  Std.Error df       t.value    p.value      R.sqr    \n",
       "1 15.370725 2.108155  31.32668  7.2910773 3.124830e-08 0.7932281\n",
       "2  1.639835 2.121880  38.87702  0.7728216 4.443013e-01 0.1230048\n",
       "3 -6.162625 2.281435  39.56169 -2.7012051 1.012084e-02 0.3946070\n",
       "4 -6.001386 2.121880  38.87702 -2.8283337 7.360145e-03 0.4130980"
      ]
     },
     "metadata": {},
     "output_type": "display_data"
    },
    {
     "data": {
      "image/png": "[encoded data removed]",
      "text/plain": [
       "plot without title"
      ]
     },
     "metadata": {},
     "output_type": "display_data"
    }
   ],
   "source": [
    "# averages per group\n",
    "time.per.condition.plot <- disappearance.across.targets %>%\n",
    "    # Adjusting observers' means following Loftus & Masson (1994)\n",
    "    group_by(ID) %>%\n",
    "    mutate(ID.avg= mean(time.proportion)) %>%\n",
    "    ungroup() %>%\n",
    "    mutate(overall.avg= mean(time.proportion)) %>%\n",
    "    mutate(time.adjusted= time.proportion - ID.avg + overall.avg) %>%\n",
    "\n",
    "    # computing group averages per condition\n",
    "    group_by(ConditionLabel) %>%\n",
    "    summarise(time.avg= mean(time.adjusted),\n",
    "              time.serr= sd(time.adjusted)/sqrt(n()))\n",
    "\n",
    "# comparison to the baseline condition (M3)\n",
    "duration.lmer <- summary(lmerTest::lmer(time.proportion ~ ConditionLabel + (1|ID), data= disappearance.across.targets))\n",
    "duration.lmer\n",
    "rcontrast<-function(t, df) {\n",
    "    return (sqrt(t^2/(t^2 + df)))\n",
    "}\n",
    "coefficients.only <- data.frame(duration.lmer$coefficients)\n",
    "colnames(coefficients.only) <- c('Estimate', 'Std.Error', 'df', 't.value', 'p.value')\n",
    "dplyr::mutate(coefficients.only, R.sqr= rcontrast(t.value, df))\n",
    "\n",
    "# plot\n",
    "time.plot <- ggplot(data= time.per.condition.plot, aes(x= ConditionLabel, y= time.avg, ymin= time.avg-time.serr, ymax= time.avg+time.serr))+\n",
    "    geom_errorbar(color= 'darkgreen', width=0.3)+\n",
    "    geom_point(color= 'darkgreen', size= 3) + \n",
    "    ylab('Disappearance time [%]') +\n",
    "    ggtitle('Average proportion of time when targets were invisible')\n",
    "print(time.plot)"
   ]
  }
 ],
 "metadata": {
  "kernelspec": {
   "display_name": "R",
   "language": "R",
   "name": "ir"
  },
  "language_info": {
   "codemirror_mode": "r",
   "file_extension": ".r",
   "mimetype": "text/x-r-source",
   "name": "R",
   "pygments_lexer": "r",
   "version": "3.4.2"
  }
 },
 "nbformat": 4,
 "nbformat_minor": 2
}
