{
 "cells": [
  {
   "cell_type": "markdown",
   "metadata": {},
   "source": [
    "# Experiment 2. Preliminary data import for the main experiment."
   ]
  },
  {
   "cell_type": "code",
   "execution_count": 1,
   "metadata": {},
   "outputs": [],
   "source": [
    "import os\n",
    "import pandas as pd\n",
    "import numpy as np\n",
    "import os"
   ]
  },
  {
   "cell_type": "code",
   "execution_count": 2,
   "metadata": {},
   "outputs": [],
   "source": [
    "### constants\n",
    "data_folder= 'Experiment 1. Connectedness and Common Region'\n",
    "buttons= ['J', 'K']\n",
    "event_code= ['Pressed', 'Released']\n",
    "observerN= 15"
   ]
  },
  {
   "cell_type": "code",
   "execution_count": 3,
   "metadata": {},
   "outputs": [],
   "source": [
    "### block conditions for each observers\n",
    "observer_conditions= pd.read_csv(os.path.join(data_folder, 'Experiment1_BlockList.csv'), sep=';')"
   ]
  },
  {
   "cell_type": "markdown",
   "metadata": {},
   "source": [
    "## Importing all responses into a single table"
   ]
  },
  {
   "cell_type": "code",
   "execution_count": 4,
   "metadata": {},
   "outputs": [],
   "source": [
    "### importing all responses into a single table\n",
    "dfDict= {'ID': [], 'Block':[], 'ConditionLabel': [], 'Time': [], 'Key': [], 'EventLabel': [], 'Target': [], 'Event': []}\n",
    "for iO in range(1, observerN+1):\n",
    "    with open(os.path.join(data_folder, 's%02d.txt'%(iO)), 'rt') as response_file:\n",
    "        current_block= 1\n",
    "        block_has_started= False\n",
    "        data_lines= 0\n",
    "        for current_line in response_file:\n",
    "            # skipping the \"start of the block\" line\n",
    "            if current_line[:len(\"--Activated\")]==\"--Activated\":\n",
    "                # advancing block counter\n",
    "                if block_has_started:\n",
    "                    ## end of the previous block\n",
    "                    dfDict['ID'].append('s%02d'%(iO))\n",
    "                    dfDict['Block'].append(current_block)\n",
    "                    dfDict['ConditionLabel'].append(observer_conditions['%d'%(current_block)][observer_conditions.ID==iO].values[0])\n",
    "                    dfDict['Time'].append(possible_end_of_block_time)\n",
    "                    dfDict['Key'].append(subfields[-1][0])\n",
    "                    dfDict['EventLabel'].append('Block end')\n",
    "                    dfDict['Target'].append(-1)\n",
    "                    dfDict['Event'].append(200)\n",
    "                    \n",
    "                    # preparing counters for the next block\n",
    "                    current_block+= 1\n",
    "                    block_has_started= False\n",
    "                    data_lines= 0\n",
    "                continue\n",
    "                \n",
    "            # skipping over an empty line\n",
    "            if len(current_line.strip())==0:\n",
    "                continue\n",
    "            \n",
    "            subfields= current_line.split()\n",
    "            # parsing time into seconds\n",
    "            time_components= subfields[0].split(':') # assuming the hours:minutes:float_seconds\n",
    "            if len(time_components)==1: # \n",
    "                time_components= subfields[0].split('-') # nope, this is hours-minutes-float_seconds\n",
    "            if len(time_components)==1:\n",
    "                continue # yet something else, definitely not the relevant response line\n",
    "            four_time_components= np.concatenate([time_components[0:-1], time_components[-1].split('.')])\n",
    "            time_in_seconds= np.sum(np.array(four_time_components).astype('float')*np.array([60*60, 60, 1, 1/100.0]))\n",
    "\n",
    "            if subfields[-1][0] in buttons: # response buttons\n",
    "                data_lines+= 1\n",
    "                # adding the next line to the dictionary\n",
    "                dfDict['ID'].append('s%02d'%(iO))\n",
    "                dfDict['Block'].append(current_block)\n",
    "                dfDict['ConditionLabel'].append(observer_conditions['%d'%(current_block)][observer_conditions.ID==iO].values[0])\n",
    "                dfDict['Time'].append(time_in_seconds)\n",
    "\n",
    "                # parsing event into target and event type\n",
    "                dfDict['Key'].append(subfields[-1][0])\n",
    "                dfDict['EventLabel'].append(subfields[-1].strip()[2:-1])\n",
    "                dfDict['Target'].append(buttons.index(subfields[-1][0]))\n",
    "                dfDict['Event'].append(event_code.index(subfields[-1].strip()[2:-1]))\n",
    "            elif subfields[-1][0] in ['E', 'R']: # special event\n",
    "                if not block_has_started and subfields[-1].strip()[2:-1]=='Released': \n",
    "                    ## block start\n",
    "                    dfDict['ID'].append('s%02d'%(iO))\n",
    "                    dfDict['Block'].append(current_block)\n",
    "                    dfDict['ConditionLabel'].append(observer_conditions['%d'%(current_block)][observer_conditions.ID==iO].values[0])\n",
    "                    dfDict['Time'].append(time_in_seconds)\n",
    "                    dfDict['Key'].append(subfields[-1][0])\n",
    "                    dfDict['EventLabel'].append('Block start')\n",
    "                    dfDict['Target'].append(-1)\n",
    "                    dfDict['Event'].append(100)\n",
    "                    block_has_started= True\n",
    "                elif subfields[-1].strip()[2:-1]=='Pressed':\n",
    "                    possible_end_of_block_time= time_in_seconds\n",
    "            else:\n",
    "                data_lines+= 1\n",
    "                \n",
    "    ## end of the last block\n",
    "    dfDict['ID'].append('s%02d'%(iO))\n",
    "    dfDict['Block'].append(current_block)\n",
    "    dfDict['ConditionLabel'].append(observer_conditions['%d'%(current_block)][observer_conditions.ID==iO].values[0])\n",
    "    dfDict['Time'].append(possible_end_of_block_time)\n",
    "    dfDict['Key'].append(subfields[-1][0])\n",
    "    dfDict['EventLabel'].append('Block end')\n",
    "    dfDict['Target'].append(-1)\n",
    "    dfDict['Event'].append(200)\n",
    "\n",
    "            \n",
    "responses= pd.DataFrame(dfDict, columns=['ID', 'Block', 'ConditionLabel', 'Time', 'Target', 'Event', 'Key', 'EventLabel'])\n",
    "responses.to_csv(os.path.join(data_folder, 'Experiment1_Response.csv'), sep=';', index= False)"
   ]
  },
  {
   "cell_type": "markdown",
   "metadata": {},
   "source": [
    "## Converting key presses into the sequence of subjective states"
   ]
  },
  {
   "cell_type": "code",
   "execution_count": 5,
   "metadata": {},
   "outputs": [
    {
     "name": "stdout",
     "output_type": "stream",
     "text": [
      "Done!                      \n"
     ]
    }
   ],
   "source": [
    "### turning responses into the sequence of subjective states'\n",
    "subjective_state_change= pd.DataFrame(columns= ['ID', 'Block', 'BlockDuration', 'ConditionLabel', 'Trial', 'TargetCount', 'Time', 'Duration'])\n",
    "for current_ID in responses.ID.unique():\n",
    "    for current_block in responses.Block[responses.ID==current_ID].unique():\n",
    "        print('\\rObserver %s, block %d'%(current_ID, current_block), end=' ')\n",
    "        iBlockTrials= responses[(responses.ID==current_ID) & (responses.Block==current_block)].index\n",
    "        \n",
    "        # figuring out block start-end-duration\n",
    "        current_block_start= responses.Time[(responses.ID==current_ID) & (responses.Block==current_block) & (responses.EventLabel=='Block start')].values[0]\n",
    "        current_block_end= responses.Time[(responses.ID==current_ID) & (responses.Block==current_block) & (responses.EventLabel=='Block end')].values[0]\n",
    "        current_block_duration=current_block_end-current_block_start \n",
    "\n",
    "        # block constants\n",
    "        current_entry= {'ID': current_ID, \n",
    "                        'Block': current_block, \n",
    "                        'BlockDuration': current_block_duration,\n",
    "                        'ConditionLabel': responses.ConditionLabel[iBlockTrials[0]]}        \n",
    "        \n",
    "        # adding an onset state - all visibile\n",
    "        current_entry['Trial']= 0\n",
    "        current_entry['TargetCount']= 2\n",
    "        current_entry['Duration']= 0\n",
    "        current_entry['Time']= 0\n",
    "        subjective_state_change.loc[subjective_state_change.shape[0]] = pd.Series(current_entry)\n",
    "        \n",
    "        CurrentTargetCount= 2\n",
    "        PrevioiusEventTime= 0\n",
    "        # going through events\n",
    "        for iTrial, iRow in enumerate(iBlockTrials[1:-1]): # first and last events are labels for start and end of the block\n",
    "            current_entry['Trial']= iTrial+1\n",
    "            if responses.Event[iRow]==0:\n",
    "                CurrentTargetCount-= 1\n",
    "            else:\n",
    "                CurrentTargetCount+= 1\n",
    "            current_entry['TargetCount']= CurrentTargetCount\n",
    "            current_entry['Time']=  responses.Time[iRow]-current_block_start\n",
    "            subjective_state_change.set_value(len(subjective_state_change)-1, 'Duration', current_entry['Time']-PrevioiusEventTime)\n",
    "            if iTrial==len(iBlockTrials)-2: # the last trial\n",
    "                current_entry['Duration']= current_block_duration-current_entry['Time']\n",
    "            PrevioiusEventTime= current_entry['Time']\n",
    "            subjective_state_change.loc[subjective_state_change.shape[0]] = pd.Series(current_entry)\n",
    "print('\\rDone!                      ')\n",
    "subjective_state_change.to_csv(os.path.join(data_folder, 'Experiment1_SubjectiveStateChange.csv'), sep=';', index= False)"
   ]
  },
  {
   "cell_type": "markdown",
   "metadata": {},
   "source": [
    "## Preliminary fingers-press asynchrony analysis"
   ]
  },
  {
   "cell_type": "code",
   "execution_count": 6,
   "metadata": {},
   "outputs": [],
   "source": [
    "### importing all responses into a single table\n",
    "dfDict= {'ID': [], 'Time': [], 'Key': [], 'EventLabel': [], 'Target': [], 'Event': []}\n",
    "for iO in range(1, observerN+1):\n",
    "    with open(os.path.join(data_folder, 's%02d_FOA.txt'%(iO)), 'rt') as response_file:\n",
    "        for current_line in response_file:\n",
    "            # skipping the \"start of the block\" line\n",
    "            if current_line[:len(\"--Activated\")]==\"--Activated\":\n",
    "                continue\n",
    "                \n",
    "            subfields= current_line.split()\n",
    "            if subfields[-1][0] in buttons: # relevant button\n",
    "                # adding the next line to the dictionary\n",
    "                dfDict['ID'].append('s%02d'%(iO))\n",
    "\n",
    "                # parsing time into seconds\n",
    "                time_components= subfields[0].split(':') # assuming the hours:minutes:float_seconds\n",
    "                if len(time_components)==1: # \n",
    "                    time_components= subfields[0].split('-') # nope, this is hours-minutes-float_seconds\n",
    "                four_time_components= np.concatenate([time_components[0:-1], time_components[-1].split('.')])\n",
    "                time_in_seconds= np.sum(np.array(four_time_components).astype('float')*np.array([60*60, 60, 1, 1/100.0]))\n",
    "                dfDict['Time'].append(time_in_seconds)\n",
    "\n",
    "                # parsing event into target and event type\n",
    "                dfDict['Key'].append(subfields[-1][0])\n",
    "                dfDict['EventLabel'].append(subfields[-1].strip()[2:-1])\n",
    "                dfDict['Target'].append(buttons.index(subfields[-1][0]))\n",
    "                dfDict['Event'].append(event_code.index(subfields[-1].strip()[2:-1]))\n",
    "            \n",
    "responses= pd.DataFrame(dfDict, columns=['ID', 'Time', 'Target', 'Event', 'Key', 'EventLabel'])\n",
    "responses.to_csv(os.path.join(data_folder, 'Experiment1_FOA_Response.csv'), sep=';', index= False)"
   ]
  },
  {
   "cell_type": "code",
   "execution_count": 7,
   "metadata": {},
   "outputs": [],
   "source": [
    "## computing distribution of response times for individual observers\n",
    "dfDict= {'ID': [], 'Event':[], 'MaxRT':[], 'MeanRT':[], 'MinRT':[], 'StdRT':[]}\n",
    "\n",
    "### computing response variance for each observer\n",
    "for current_observer in responses.ID.unique():\n",
    "    iTrials= responses[responses.ID==current_observer].index\n",
    "    \n",
    "    for current_event in range(2):\n",
    "        # finding relevant double events\n",
    "        iDoubleEventTrials,= np.where(((responses.Target.values[iTrials[:-1]] != responses.Target.values[iTrials[1:]]) & \n",
    "                                      (responses.Event.values[iTrials[:-1]] == responses.Event.values[iTrials[1:]]) &\n",
    "                                      (responses.Event.values[iTrials[:-1]] == current_event)))\n",
    "                \n",
    "        iDoubleEvent= iTrials[iDoubleEventTrials]\n",
    "        rtDist= responses.Time[iDoubleEvent+1].values-responses.Time[iDoubleEvent].values\n",
    "        \n",
    "        # characterizing distribution\n",
    "        dfDict['ID'].append(current_observer)\n",
    "        dfDict['Event'].append(current_event)\n",
    "        dfDict['MaxRT'].append(np.max(rtDist))\n",
    "        dfDict['MinRT'].append(np.min(rtDist))\n",
    "        dfDict['MeanRT'].append(np.mean(rtDist))\n",
    "        dfDict['StdRT'].append(np.std(rtDist))\n",
    "                                    \n",
    "ResponseBrackets= pd.DataFrame(dfDict)\n",
    "ResponseBrackets.to_csv(os.path.join(data_folder, 'Experiment1_FOA_Estimate.csv'), sep=';', index= False)"
   ]
  },
  {
   "cell_type": "code",
   "execution_count": 8,
   "metadata": {},
   "outputs": [
    {
     "name": "stderr",
     "output_type": "stream",
     "text": [
      "E:\\Software\\WinPython-64bit-3.6.1.0Qt5\\python-3.6.1.amd64\\lib\\site-packages\\ipykernel_launcher.py:5: SettingWithCopyWarning: \n",
      "A value is trying to be set on a copy of a slice from a DataFrame.\n",
      "Try using .loc[row_indexer,col_indexer] = value instead\n",
      "\n",
      "See the caveats in the documentation: http://pandas.pydata.org/pandas-docs/stable/indexing.html#indexing-view-versus-copy\n",
      "  \"\"\"\n"
     ]
    },
    {
     "name": "stdout",
     "output_type": "stream",
     "text": [
      "s15 \r"
     ]
    }
   ],
   "source": [
    "# throwing away all block start-end events\n",
    "responses= pd.read_csv(os.path.join(data_folder, 'Experiment1_Response.csv'), sep=';')\n",
    "FOA= ResponseBrackets\n",
    "results= responses[responses.Event<100]\n",
    "results['SimCount']= 0\n",
    "for current_observer in results.ID.unique():\n",
    "    print('%s'%(current_observer), end=' ')\n",
    "    for current_block in results[results.ID==current_observer].Block.unique():\n",
    "        iBlockTrials= results[(results.ID==current_observer) & (results.Block==current_block)].index\n",
    "        for iTrial, iRow in enumerate(iBlockTrials):\n",
    "            ## checking if this is still is an unassigned event\n",
    "            if results.SimCount[iRow]!= 0:\n",
    "                continue\n",
    "            \n",
    "            ## figuring out how many consecutive events of the same type can we have\n",
    "            event_time= []\n",
    "            for iConsecutiveEvent in range(2):\n",
    "                if (iConsecutiveEvent+iTrial>=len(iBlockTrials)) or (results.Event[iRow]!=results.Event[iRow+iConsecutiveEvent]):\n",
    "                    break\n",
    "                event_time.append(results.Time[iRow+iConsecutiveEvent])\n",
    "            \n",
    "            ## trying for twos\n",
    "            if len(event_time)>=2:\n",
    "                dT= event_time[1]-event_time[0]\n",
    "                iBracket= FOA[(FOA.ID==current_observer) & (FOA.Event==results.Event[iRow])].index\n",
    "                if len(iBracket)>0 and dT>=FOA.MinRT[iBracket].values[0] and dT<=FOA.MaxRT[iBracket].values[0]:\n",
    "                    # Match! Fill out and skip the rest of the loop\n",
    "                    for iConsecutiveEvent in range(2):\n",
    "                        results.set_value(iRow+iConsecutiveEvent, 'SimCount', 2)\n",
    "                    continue\n",
    "            \n",
    "            ## single event, oh, well...\n",
    "            results.set_value(iRow, 'SimCount', 1)\n",
    "    print('\\r', end= '')\n",
    "results.to_csv(os.path.join(data_folder, 'Experiment1_Simultaneity.csv'), sep=';', index= False)    "
   ]
  }
 ],
 "metadata": {
  "kernelspec": {
   "display_name": "Python 3",
   "language": "python",
   "name": "python3"
  },
  "language_info": {
   "codemirror_mode": {
    "name": "ipython",
    "version": 3
   },
   "file_extension": ".py",
   "mimetype": "text/x-python",
   "name": "python",
   "nbconvert_exporter": "python",
   "pygments_lexer": "ipython3",
   "version": "3.6.1"
  }
 },
 "nbformat": 4,
 "nbformat_minor": 1
}
