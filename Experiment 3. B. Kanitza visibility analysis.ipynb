{
 "cells": [
  {
   "cell_type": "markdown",
   "metadata": {},
   "source": [
    "# Experiment 3.  Kanitza visibility analysis (Fig. 4CD)."
   ]
  },
  {
   "cell_type": "code",
   "execution_count": 2,
   "metadata": {
    "collapsed": true
   },
   "outputs": [],
   "source": [
    "# importing prerequisites\n",
    "import os\n",
    "import pandas as pd\n",
    "import numpy as np\n",
    "from scipy.stats import sem, wilcoxon\n",
    "from scipy.stats.mstats import mquantiles\n",
    "import matplotlib.pyplot as plt\n",
    "import matplotlib\n",
    "import pymc as pm\n",
    "%matplotlib inline"
   ]
  },
  {
   "cell_type": "markdown",
   "metadata": {},
   "source": [
    "### Loading  results and computing the disappearance time fraction"
   ]
  },
  {
   "cell_type": "code",
   "execution_count": 3,
   "metadata": {
    "collapsed": true
   },
   "outputs": [],
   "source": [
    "### loading raw results and computing duration of individual event\n",
    "results= pd.read_csv(os.path.join('Experiment 3', 'Experiment3.csv'), sep=';')\n",
    "results.Time= results.Time/1000.0 # milliseconds to seconds\n",
    "results['Duration']= np.nan\n",
    "\n",
    "for iRow in range(len(results)):\n",
    "    if results.Event[iRow]==0: # onset event, we add duration to it\n",
    "        for iFollowingRow in range(iRow+1, len(results)):\n",
    "            if results.Block[iFollowingRow]!= results.Block[iRow]:\n",
    "                print('Panic! Could not find the end of the event within the block!')\n",
    "            if results.Event[iFollowingRow]==1 and results.Target[iFollowingRow]==results.Target[iRow]: # end event\n",
    "                results.set_value(iRow, 'Duration', results.Time[iFollowingRow]-results.Time[iRow])\n",
    "                break\n",
    "results['EndTime']= results.Time+results.Duration\n",
    "results['TimeMS']= results.Time*1000\n",
    "results['EndTimeMS']= results.EndTime*1000\n",
    "\n",
    "# removing early static masks condition\n",
    "results= results[np.abs(results.RotationSpeed)>0]"
   ]
  },
  {
   "cell_type": "code",
   "execution_count": 4,
   "metadata": {
    "collapsed": true
   },
   "outputs": [],
   "source": [
    "# computing fraction of time for Kanitza visibility (Target==0) and for pacmen disappearance (Target==2)\n",
    "FractionOfTimePerBlock= results[results.Event==0].groupby(['ID', 'MasksN', 'Block']).apply(\n",
    "    lambda x: pd.Series({\n",
    "            'KanitzaVisibility': x[x.Target==0].Duration.sum()/x.BlockDuration.values[0],\n",
    "            'DisappearanceFraction': x[x.Target>0].Duration.sum()/x.BlockDuration.values[0]\n",
    "        })).reset_index()\n",
    "\n",
    "FractionOfTime= FractionOfTimePerBlock.groupby(['ID', 'MasksN']).apply(\n",
    "    lambda x: pd.Series({\n",
    "            'KanitzaVisibility': x.KanitzaVisibility.mean(),\n",
    "            'DisappearanceFraction': x.DisappearanceFraction.mean()\n",
    "        })).reset_index()\n",
    "FractionOfTime['KanitzaForFullVisibility']= FractionOfTime.KanitzaVisibility/(1-FractionOfTime.DisappearanceFraction)"
   ]
  },
  {
   "cell_type": "markdown",
   "metadata": {},
   "source": [
    "### Using Bayesian approach to fit linear regression for the effect of the mask number on visibility of the illusory Kanitza triangle"
   ]
  },
  {
   "cell_type": "code",
   "execution_count": 8,
   "metadata": {
    "collapsed": false
   },
   "outputs": [
    {
     "name": "stdout",
     "output_type": "stream",
     "text": [
      "Mask:\n",
      " [-----------------100%-----------------] 120000 of 120000 complete in 13.6 sec\n"
     ]
    }
   ],
   "source": [
    "### converting table to a matrix, normalizing each observer to their overall means, but adding the overall average to keep condition means correct\n",
    "FractionOfTime['MasksN']= FractionOfTime.MasksN.astype(int)\n",
    "FractionOfTime['ConditionCode']= FractionOfTime.MasksN.astype(int)\n",
    "matrix_like_df= FractionOfTime.pivot(index='ID', columns= 'ConditionCode', values='KanitzaVisibility').reset_index()\n",
    "fraction_matrix= np.array(matrix_like_df)[:, 1:]\n",
    "\n",
    "## Adjusting observers' means following Loftus & Masson (1994)\n",
    "observer_average= np.mean(fraction_matrix, axis=1)\n",
    "condition_average= np.mean(fraction_matrix, axis=0)\n",
    "adjusted_matrix= fraction_matrix-np.tile(observer_average, (2, 1)).T+np.tile(np.mean(fraction_matrix), (observer_average.shape[0], 2))\n",
    "adjusted_matrix= adjusted_matrix.astype(float)\n",
    "condition_labels= np.array(matrix_like_df.columns[1:])\n",
    "\n",
    "# factors presence for each condition\n",
    "Mask= np.array([1, 0]) # mask factor\n",
    "\n",
    "# data and data shape (for forming the fitted data)\n",
    "data_shape= (adjusted_matrix.shape[0],1)\n",
    "intercept_shape= adjusted_matrix.shape\n",
    "data=adjusted_matrix\n",
    "\n",
    "# variance around the linear regressor\n",
    "sigma = pm.Exponential('sigma', beta=1.) \n",
    "\n",
    "# regression parameters\n",
    "intercept     = pm.Uniform('intercept', -1e20, 1e20, value=0.5)\n",
    "factorMask  = pm.Uniform('factorMask', -1e20, 1e20)\n",
    " \n",
    "@pm.deterministic(plot=False)\n",
    "def linear_fit_mask(intercept=intercept, factorMask=factorMask, Mask=Mask, data_shape=data_shape):\n",
    "    return np.tile(intercept+factorMask*Mask, data_shape)\n",
    "\n",
    "# defining models\n",
    "yMask= pm.Normal('yMask', mu=linear_fit_mask, tau=1.0/sigma**2, value=adjusted_matrix, observed=True)\n",
    "modelMask = pm.Model([yMask, sigma, intercept, factorMask])\n",
    "\n",
    "print('Mask:')                   \n",
    "map_ = pm.MAP(modelMask)\n",
    "map_.fit()\n",
    "mcmcMask = pm.MCMC(modelMask)\n",
    "mcmcMask.sample(120000, 100000, 2)\n",
    "print()"
   ]
  },
  {
   "cell_type": "markdown",
   "metadata": {},
   "source": [
    "### Using fitted interaction model to predict values"
   ]
  },
  {
   "cell_type": "code",
   "execution_count": 9,
   "metadata": {
    "collapsed": true
   },
   "outputs": [],
   "source": [
    "### computing mean ± S.E.M. of predicted values for each condition\n",
    "\n",
    "# getting posterior distributions for individual factors and their interaction  \n",
    "InterceptDist= mcmcMask.trace('intercept')[:]\n",
    "MaskDist= mcmcMask.trace('factorMask')[:]\n",
    "\n",
    "# factors presence for each condition\n",
    "Mask= np.array([1, 0]) # mask factor\n",
    "\n",
    "# preparing arrays\n",
    "predicted_mean= np.zeros(Mask.shape)\n",
    "predicted_sem= np.zeros(Mask.shape)\n",
    "\n",
    "# linear fit with an interaction term\n",
    "def linear_fit_mask(intercept, factorMask, Mask):\n",
    "    return intercept+factorMask*Mask\n",
    "\n",
    "# computing distribution of predicted values for each condition\n",
    "for iCond in range(len(Mask)):\n",
    "    current_condition_dist= linear_fit_mask(InterceptDist,MaskDist,Mask[iCond])\n",
    "    predicted_mean[iCond]= np.mean(current_condition_dist)\n",
    "    predicted_sem[iCond]= np.std(current_condition_dist)"
   ]
  },
  {
   "cell_type": "markdown",
   "metadata": {},
   "source": [
    "### Plotting the experimental results and model fits alongside with posterior distribution for mask factor (Fig. 4CD in the manuscript)."
   ]
  },
  {
   "cell_type": "code",
   "execution_count": 10,
   "metadata": {
    "collapsed": false
   },
   "outputs": [
    {
     "data": {
      "image/png": "[encoded data removed]",
      "text/plain": [
       "<matplotlib.figure.Figure at 0xeb2ab10>"
      ]
     },
     "metadata": {},
     "output_type": "display_data"
    }
   ],
   "source": [
    "### plotting results\n",
    "condition_order= [1, 0]\n",
    "\n",
    "matplotlib.rcParams['figure.figsize'] = (7.0, 10.0)\n",
    "ax= plt.subplot2grid((4,1), (0, 0), rowspan=3)\n",
    "data_plot= plt.errorbar(condition_order, \n",
    "             np.mean(adjusted_matrix, axis=0)*100,\n",
    "             yerr=sem(adjusted_matrix)*100,\n",
    "             fmt= 'ko',\n",
    "             markersize= 10,\n",
    "             markerfacecolor = 'white')\n",
    "\n",
    "for iCond in range(len(predicted_mean)):\n",
    "    fit_plot= plt.fill_between(condition_order[iCond]+np.array([-0.1, 0.1]),\n",
    "                     100*(predicted_mean[iCond]-predicted_sem[iCond]+np.zeros((2, ))),\n",
    "                     100*(predicted_mean[iCond]+predicted_sem[iCond]+np.zeros((2, ))),\n",
    "                     facecolor='orange', alpha= 0.5)\n",
    "                     \n",
    "plt.xticks(condition_order, condition_labels)\n",
    "current_axis= plt.axis()\n",
    "plt.axis([-0.5, 1.5, current_axis[2], current_axis[3]])\n",
    "plt.legend(handles= [data_plot, fit_plot], labels=['Experimental results', 'Fit predictions'], loc='lower left')\n",
    "plt.ylabel('Kanitza visibility time [%]')\n",
    "plt.xlabel('Number of masks.')\n",
    "plt.title('Kanitza visibility time')\n",
    "ax.spines['right'].set_visible(False)\n",
    "ax.spines['top'].set_visible(False)\n",
    "ax.spines['bottom'].set_visible(False)\n",
    "ax.yaxis.set_ticks_position('left')\n",
    "ax.xaxis.set_ticks_position('bottom')\n",
    "\n",
    "ax= plt.subplot2grid((4,1), (3, 0))\n",
    "plt.hist(MaskDist, bins=50, histtype=\"stepfilled\", weights=np.ones(MaskDist.shape)/MaskDist.shape[0], color='orange')\n",
    "current_axis= plt.axis()\n",
    "plt.vlines(np.percentile(MaskDist, [2.5, 97.5]), 0, current_axis[3], color='black')\n",
    "plt.vlines([0], 0, current_axis[3], color='black', linestyles=['dashed'])\n",
    "plt.title('Mask. %.1f%% below 0'%(100*np.sum(MaskDist<0)/MaskDist.shape[0]))\n",
    "plt.axis([-0.30, 0.30, 0, current_axis[3]])\n",
    "ax.spines['right'].set_visible(False)\n",
    "ax.spines['top'].set_visible(False)\n",
    "ax.yaxis.set_ticks_position('left')\n",
    "ax.xaxis.set_ticks_position('bottom')\n",
    "\n",
    "plt.tight_layout()\n",
    "plt.show()"
   ]
  }
 ],
 "metadata": {
  "kernelspec": {
   "display_name": "Python 3",
   "language": "python",
   "name": "python3"
  },
  "language_info": {
   "codemirror_mode": {
    "name": "ipython",
    "version": 3
   },
   "file_extension": ".py",
   "mimetype": "text/x-python",
   "name": "python",
   "nbconvert_exporter": "python",
   "pygments_lexer": "ipython3",
   "version": "3.5.2"
  }
 },
 "nbformat": 4,
 "nbformat_minor": 0
}
