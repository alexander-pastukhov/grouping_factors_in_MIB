{
 "cells": [
  {
   "cell_type": "markdown",
   "metadata": {},
   "source": [
    "# Experiment 1. Extracting finger-onset asynchrony: response time brackets for two- and three-target disappearance and appearance events"
   ]
  },
  {
   "cell_type": "code",
   "execution_count": 10,
   "metadata": {
    "collapsed": false
   },
   "outputs": [],
   "source": [
    "import os\n",
    "import pandas as pd\n",
    "import numpy as np\n",
    "\n",
    "### change in physical state\n",
    "State= pd.read_csv(os.path.join('Experiment 1', 'Experiment1_FOA_DisplayState.csv'), sep=';')\n",
    "State['TargetCount']=State.Target1+State.Target2+State.Target3\n",
    "State['Trial']= int(0)\n",
    "State['ChangeMagnitude']= int(0)\n",
    "for current_ID in State.ID.unique():\n",
    "    for current_block in State[State.ID==current_ID].Block.unique():\n",
    "        block_trials= State[(State.ID==current_ID) & (State.Block==current_block)].index\n",
    "        for iTrial, iRow in enumerate(block_trials):\n",
    "            State.set_value(iRow, 'Trial', iTrial)\n",
    "            if iTrial>0:\n",
    "                State.set_value(iRow, 'ChangeMagnitude', State.TargetCount[iRow]-State.TargetCount[iRow-1])     \n",
    "                \n",
    "# splitting signed change magnitude into event type (appearance vs. disappearance) and absolute change magnitude\n",
    "State['EventType']= 'appearance'\n",
    "State.set_value(State[State.ChangeMagnitude<0].index, 'EventType', 'disappearance')\n",
    "State['ChangeMagnitude']= State['ChangeMagnitude'].abs()\n",
    "\n",
    "### Loadng responses\n",
    "Response= pd.read_csv(os.path.join('Experiment 1', 'Experiment1_FOA_Response.csv'), sep=';')\n",
    "\n",
    "### computing response time delay and response time difference for each State Change\n",
    "State['FirstResponse']= np.nan\n",
    "State['LastResponse']= np.nan\n",
    "State['ResponseCount']= int(0)\n",
    "for iRow in range(len(State)):\n",
    "    # skipping the first trial, since this the display onset rather than a change\n",
    "    if np.isnan(State.ChangeMagnitude[iRow]):\n",
    "        continue\n",
    "        \n",
    "    # identifying response time window between state changes\n",
    "    response_start= State.ChangeTime[iRow]\n",
    "    if iRow==len(State)-1: # last trial of the last block\n",
    "        response_end= State.Duration[iRow]\n",
    "    elif State.Block[iRow+1]!=State.Block[iRow]: # last trial of the block\n",
    "        response_end= State.Duration[iRow]\n",
    "    else: # normal trial\n",
    "        response_end= State.ChangeTime[iRow+1]\n",
    "        \n",
    "    # identifying reponses\n",
    "    iResponse= Response[(Response.ID==State.ID[iRow]) & (Response.Block==State.Block[iRow]) & (Response.Time>=response_start) & (Response.Time<response_end)].index\n",
    "    State.set_value(iRow, 'ResponseCount', len(iResponse))\n",
    "    if len(iResponse)>0:\n",
    "        State.set_value(iRow, 'FirstResponse', Response.Time[iResponse[0]]-response_start)\n",
    "        State.set_value(iRow, 'LastResponse', Response.Time[iResponse[-1]]-response_start)\n",
    "    else:\n",
    "        State.set_value(iRow, 'FirstResponse', np.nan)\n",
    "        State.set_value(iRow, 'LastResponse', np.nan)\n",
    "\n",
    "# computing time bracket for multikey reponses\n",
    "State['TimeBracket']= State.LastResponse-State.FirstResponse        \n",
    "\n",
    "# identifying valid trials (numbers of presses/releases matches the number of state changes)\n",
    "State['Valid']= State.ChangeMagnitude==State.ResponseCount\n",
    "\n",
    "### computing average response time brackets for two and three event\n",
    "ResponseBrackets= State[(State.Valid) & (State.ChangeMagnitude>1)].groupby(['ID', 'EventType', 'ChangeMagnitude']).apply(\n",
    "    lambda x: pd.Series({'MeanRT': x.TimeBracket.mean(),\n",
    "                         'MinRT': x.TimeBracket.min(),\n",
    "                         'MaxRT': x.TimeBracket.max(),\n",
    "                         'StdRT': x.TimeBracket.std()})).reset_index()\n",
    "ResponseBrackets.to_csv(os.path.join('Experiment 1', 'Experiment1_FOA_Estimate.csv'), sep=';', index=False)"
   ]
  }
 ],
 "metadata": {
  "kernelspec": {
   "display_name": "Python 3",
   "language": "python",
   "name": "python3"
  },
  "language_info": {
   "codemirror_mode": {
    "name": "ipython",
    "version": 3
   },
   "file_extension": ".py",
   "mimetype": "text/x-python",
   "name": "python",
   "nbconvert_exporter": "python",
   "pygments_lexer": "ipython3",
   "version": "3.5.2"
  }
 },
 "nbformat": 4,
 "nbformat_minor": 0
}
