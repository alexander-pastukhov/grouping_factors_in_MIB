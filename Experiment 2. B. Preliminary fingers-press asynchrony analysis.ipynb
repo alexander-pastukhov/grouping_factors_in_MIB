{
 "cells": [
  {
   "cell_type": "markdown",
   "metadata": {},
   "source": [
    "# Experiment 2. Preliminary fingers-press asynchrony analysis"
   ]
  },
  {
   "cell_type": "code",
   "execution_count": 1,
   "metadata": {
    "collapsed": true
   },
   "outputs": [],
   "source": [
    "import os\n",
    "import pandas as pd\n",
    "import numpy as np\n",
    "import os"
   ]
  },
  {
   "cell_type": "code",
   "execution_count": 2,
   "metadata": {
    "collapsed": true
   },
   "outputs": [],
   "source": [
    "### constants\n",
    "data_folder= 'Experiment 2'\n",
    "buttons= ['J', 'K']\n",
    "event_code= ['Pressed', 'Released']\n",
    "observerN= 15"
   ]
  },
  {
   "cell_type": "code",
   "execution_count": 6,
   "metadata": {
    "collapsed": false
   },
   "outputs": [],
   "source": [
    "### importing all responses into a single table\n",
    "dfDict= {'ID': [], 'Time': [], 'Key': [], 'EventLabel': [], 'Target': [], 'Event': []}\n",
    "for iO in range(1, observerN+1):\n",
    "    with open(os.path.join(data_folder, 's%02d_FOA.txt'%(iO)), 'rt') as response_file:\n",
    "        for current_line in response_file:\n",
    "            # skipping the \"start of the block\" line\n",
    "            if current_line[:len(\"--Activated\")]==\"--Activated\":\n",
    "                continue\n",
    "                \n",
    "            subfields= current_line.split()\n",
    "            if subfields[-1][0] in buttons: # relevant button\n",
    "                # adding the next line to the dictionary\n",
    "                dfDict['ID'].append('s%02d'%(iO))\n",
    "\n",
    "                # parsing time into seconds\n",
    "                time_components= subfields[0].split(':') # assuming the hours:minutes:float_seconds\n",
    "                if len(time_components)==1: # \n",
    "                    time_components= subfields[0].split('-') # nope, this is hours-minutes-float_seconds\n",
    "                four_time_components= np.concatenate([time_components[0:-1], time_components[-1].split('.')])\n",
    "                time_in_seconds= np.sum(np.array(four_time_components).astype('float')*np.array([60*60, 60, 1, 1/100.0]))\n",
    "                dfDict['Time'].append(time_in_seconds)\n",
    "\n",
    "                # parsing event into target and event type\n",
    "                dfDict['Key'].append(subfields[-1][0])\n",
    "                dfDict['EventLabel'].append(subfields[-1].strip()[2:-1])\n",
    "                dfDict['Target'].append(buttons.index(subfields[-1][0]))\n",
    "                dfDict['Event'].append(event_code.index(subfields[-1].strip()[2:-1]))\n",
    "            \n",
    "responses= pd.DataFrame(dfDict, columns=['ID', 'Time', 'Target', 'Event', 'Key', 'EventLabel'])\n",
    "responses.to_csv(os.path.join('Experiment 2', 'Experiment2_FOA_Response.csv'), sep=';', index= False)"
   ]
  },
  {
   "cell_type": "code",
   "execution_count": 7,
   "metadata": {
    "collapsed": false
   },
   "outputs": [],
   "source": [
    "## computing distribution of response times for individual observers\n",
    "\n",
    "dfDict= {'ID': [], 'Event':[], 'MaxRT':[], 'MeanRT':[], 'MinRT':[], 'StdRT':[]}\n",
    "\n",
    "### computing response variance for each observer\n",
    "for current_observer in responses.ID.unique():\n",
    "    iTrials= responses[responses.ID==current_observer].index\n",
    "    \n",
    "    for current_event in range(2):\n",
    "        # finding relevant double events\n",
    "        iDoubleEvent= responses[(responses.ID==current_observer) & \n",
    "                                        (responses.Target[iTrials[:-1]]!=responses.Target[iTrials[1:]]) & \n",
    "                                        (responses.Event[iTrials[:-1]]==responses.Event[iTrials[1:]]) &\n",
    "                                        (responses.Event[iTrials[:-1]]==current_event)].index\n",
    "        rtDist= responses.Time[iDoubleEvent+1].values-responses.Time[iDoubleEvent].values\n",
    "        \n",
    "        # characterizing distribution\n",
    "        dfDict['ID'].append(current_observer)\n",
    "        dfDict['Event'].append(current_event)\n",
    "        dfDict['MaxRT'].append(np.max(rtDist))\n",
    "        dfDict['MinRT'].append(np.min(rtDist))\n",
    "        dfDict['MeanRT'].append(np.mean(rtDist))\n",
    "        dfDict['StdRT'].append(np.std(rtDist))\n",
    "                                    \n",
    "ResponseBrackets= pd.DataFrame(dfDict)\n",
    "ResponseBrackets.to_csv(os.path.join('Experiment 2', 'Experiment2_FOA_Estimate.csv'), sep=';', index= False)"
   ]
  }
 ],
 "metadata": {
  "kernelspec": {
   "display_name": "Python 3",
   "language": "python",
   "name": "python3"
  },
  "language_info": {
   "codemirror_mode": {
    "name": "ipython",
    "version": 3
   },
   "file_extension": ".py",
   "mimetype": "text/x-python",
   "name": "python",
   "nbconvert_exporter": "python",
   "pygments_lexer": "ipython3",
   "version": "3.5.2"
  }
 },
 "nbformat": 4,
 "nbformat_minor": 0
}
