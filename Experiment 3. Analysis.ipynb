{
 "cells": [
  {
   "cell_type": "code",
   "execution_count": 1,
   "metadata": {},
   "outputs": [],
   "source": [
    "rm(list= ls())"
   ]
  },
  {
   "cell_type": "code",
   "execution_count": 2,
   "metadata": {},
   "outputs": [
    {
     "name": "stderr",
     "output_type": "stream",
     "text": [
      "\n",
      "Attaching package: 'dplyr'\n",
      "\n",
      "The following objects are masked from 'package:stats':\n",
      "\n",
      "    filter, lag\n",
      "\n",
      "The following objects are masked from 'package:base':\n",
      "\n",
      "    intersect, setdiff, setequal, union\n",
      "\n",
      "Loading required package: coda\n",
      "Loading required package: Matrix\n",
      "\n",
      "Attaching package: 'Matrix'\n",
      "\n",
      "The following object is masked from 'package:tidyr':\n",
      "\n",
      "    expand\n",
      "\n",
      "************\n",
      "Welcome to BayesFactor 0.9.12-2. If you have questions, please contact Richard Morey (richarddmorey@gmail.com).\n",
      "\n",
      "Type BFManual() to open the manual.\n",
      "************\n",
      "\n",
      "Attaching package: 'lmerTest'\n",
      "\n",
      "The following object is masked from 'package:lme4':\n",
      "\n",
      "    lmer\n",
      "\n",
      "The following object is masked from 'package:stats':\n",
      "\n",
      "    step\n",
      "\n"
     ]
    }
   ],
   "source": [
    "library(dplyr)\n",
    "library(tidyr)\n",
    "library(ggplot2)\n",
    "library(BayesFactor)\n",
    "library(lme4)\n",
    "library(lmerTest)"
   ]
  },
  {
   "cell_type": "code",
   "execution_count": 3,
   "metadata": {},
   "outputs": [],
   "source": [
    "data.folder <- 'Experiment 3. Visibility of the illusory Kanizsa triangle'"
   ]
  },
  {
   "cell_type": "code",
   "execution_count": 4,
   "metadata": {},
   "outputs": [],
   "source": [
    "### loading raw results and computing duration of individual event\n",
    "results= read.csv(file.path(data.folder, 'Experiment3.csv'), sep=';')\n",
    "\n",
    "\n",
    "compute.duration <- function(times, events){\n",
    "    duration <- rep(NA, length(times))\n",
    "    duration[events==0] <- times[events==1]-times[events==0]\n",
    "    return(duration)\n",
    "}\n",
    "\n",
    "results <- results %>%\n",
    "    # removing early static masks condition\n",
    "    filter(RotationSpeed!=0) %>%\n",
    "\n",
    "    # converting time to seconds\n",
    "    mutate(Time= Time / 1000) %>%\n",
    "\n",
    "    # computing duration of disappearances for each target\n",
    "    group_by(ID, Block, Target) %>%\n",
    "    mutate(Duration= compute.duration(Time, Event)) %>%\n",
    "\n",
    "    # making sure that factors as indeed factors\n",
    "    ungroup() %>%\n",
    "    mutate(MasksN = factor(MasksN, levels= c(3, 1)))"
   ]
  },
  {
   "cell_type": "markdown",
   "metadata": {},
   "source": [
    "## Proportion of time participant report that at least one target was invisible"
   ]
  },
  {
   "cell_type": "code",
   "execution_count": 5,
   "metadata": {},
   "outputs": [],
   "source": [
    "disappearance <- results %>%\n",
    "    # computing proportion for each block\n",
    "    group_by(ID, MasksN, Block) %>%\n",
    "    summarise(time.prop= sum(Duration[Target>0], na.rm= TRUE)/BlockDuration[1]) %>%\n",
    "\n",
    "    # averaging across blocks for each observer and condition\n",
    "    group_by(ID, MasksN) %>%\n",
    "    summarise(time.prop= 100*mean(time.prop))      \n",
    "\n",
    "disappearance <- data.frame(disappearance)"
   ]
  },
  {
   "cell_type": "markdown",
   "metadata": {},
   "source": [
    "Looking at the effect of the mask using linear-mixed models and Bayesian ANOVA"
   ]
  },
  {
   "cell_type": "code",
   "execution_count": 6,
   "metadata": {
    "scrolled": true
   },
   "outputs": [
    {
     "data": {
      "text/html": [
       "<table>\n",
       "<thead><tr><th></th><th scope=col>Df</th><th scope=col>AIC</th><th scope=col>BIC</th><th scope=col>logLik</th><th scope=col>deviance</th><th scope=col>Chisq</th><th scope=col>Chi Df</th><th scope=col>Pr(&gt;Chisq)</th></tr></thead>\n",
       "<tbody>\n",
       "\t<tr><th scope=row>lm.null</th><td>3        </td><td>266.4086 </td><td>270.6121 </td><td>-130.2043</td><td>260.4086 </td><td>      NA </td><td>NA       </td><td>       NA</td></tr>\n",
       "\t<tr><th scope=row>lm.masks</th><td>4        </td><td>266.9454 </td><td>272.5502 </td><td>-129.4727</td><td>258.9454 </td><td>1.463175 </td><td> 1       </td><td>0.2264256</td></tr>\n",
       "</tbody>\n",
       "</table>\n"
      ],
      "text/latex": [
       "\\begin{tabular}{r|llllllll}\n",
       "  & Df & AIC & BIC & logLik & deviance & Chisq & Chi Df & Pr(>Chisq)\\\\\n",
       "\\hline\n",
       "\tlm.null & 3         & 266.4086  & 270.6121  & -130.2043 & 260.4086  &       NA  & NA        &        NA\\\\\n",
       "\tlm.masks & 4         & 266.9454  & 272.5502  & -129.4727 & 258.9454  & 1.463175  &  1        & 0.2264256\\\\\n",
       "\\end{tabular}\n"
      ],
      "text/markdown": [
       "\n",
       "| <!--/--> | Df | AIC | BIC | logLik | deviance | Chisq | Chi Df | Pr(>Chisq) | \n",
       "|---|---|\n",
       "| lm.null | 3         | 266.4086  | 270.6121  | -130.2043 | 260.4086  |       NA  | NA        |        NA | \n",
       "| lm.masks | 4         | 266.9454  | 272.5502  | -129.4727 | 258.9454  | 1.463175  |  1        | 0.2264256 | \n",
       "\n",
       "\n"
      ],
      "text/plain": [
       "         Df AIC      BIC      logLik    deviance Chisq    Chi Df Pr(>Chisq)\n",
       "lm.null  3  266.4086 270.6121 -130.2043 260.4086       NA NA            NA \n",
       "lm.masks 4  266.9454 272.5502 -129.4727 258.9454 1.463175  1     0.2264256 "
      ]
     },
     "metadata": {},
     "output_type": "display_data"
    },
    {
     "data": {
      "text/plain": [
       "Bayes factor analysis\n",
       "--------------\n",
       "[1] MasksN + ID : 0.644225 ±0.69%\n",
       "\n",
       "Against denominator:\n",
       "  time.prop ~ ID \n",
       "---\n",
       "Bayes factor type: BFlinearModel, JZS\n"
      ]
     },
     "metadata": {},
     "output_type": "display_data"
    }
   ],
   "source": [
    "lm.null <- lme4::lmer(time.prop ~ 1 + (1|ID), data= disappearance, REML= FALSE)\n",
    "lm.masks <- update(lm.null, .~. + MasksN)\n",
    "anova(lm.null, lm.masks)\n",
    "\n",
    "set.seed(211122017)\n",
    "sort(anovaBF(time.prop ~ MasksN + ID, data= disappearance, whichRandom = 'ID'))"
   ]
  },
  {
   "cell_type": "markdown",
   "metadata": {},
   "source": [
    "Plotting"
   ]
  },
  {
   "cell_type": "code",
   "execution_count": 7,
   "metadata": {},
   "outputs": [
    {
     "data": {
      "text/plain": [
       "Linear mixed model fit by REML t-tests use Satterthwaite approximations to\n",
       "  degrees of freedom [lmerMod]\n",
       "Formula: time.prop ~ MasksN + (1 | ID)\n",
       "   Data: disappearance\n",
       "\n",
       "REML criterion at convergence: 249\n",
       "\n",
       "Scaled residuals: \n",
       "    Min      1Q  Median      3Q     Max \n",
       "-1.0196 -0.6747 -0.1354  0.4422  2.6009 \n",
       "\n",
       "Random effects:\n",
       " Groups   Name        Variance Std.Dev.\n",
       " ID       (Intercept)  47.91    6.922  \n",
       " Residual             306.99   17.521  \n",
       "Number of obs: 30, groups:  ID, 15\n",
       "\n",
       "Fixed effects:\n",
       "            Estimate Std. Error     df t value Pr(>|t|)    \n",
       "(Intercept)   21.764      4.864 27.499   4.474 0.000121 ***\n",
       "MasksN1       -7.663      6.398 14.000  -1.198 0.250924    \n",
       "---\n",
       "Signif. codes:  0 '***' 0.001 '**' 0.01 '*' 0.05 '.' 0.1 ' ' 1\n",
       "\n",
       "Correlation of Fixed Effects:\n",
       "        (Intr)\n",
       "MasksN1 -0.658"
      ]
     },
     "metadata": {},
     "output_type": "display_data"
    },
    {
     "data": {
      "text/html": [
       "<table>\n",
       "<thead><tr><th scope=col>Estimate</th><th scope=col>Std.Error</th><th scope=col>df</th><th scope=col>t.value</th><th scope=col>p.value</th><th scope=col>R.sqr</th></tr></thead>\n",
       "<tbody>\n",
       "\t<tr><td>21.764056   </td><td>4.864125    </td><td>27.49877    </td><td> 4.474403   </td><td>0.0001206188</td><td>0.6490845   </td></tr>\n",
       "\t<tr><td>-7.662556   </td><td>6.397793    </td><td>13.99980    </td><td>-1.197687   </td><td>0.2509239810</td><td>0.3048601   </td></tr>\n",
       "</tbody>\n",
       "</table>\n"
      ],
      "text/latex": [
       "\\begin{tabular}{r|llllll}\n",
       " Estimate & Std.Error & df & t.value & p.value & R.sqr\\\\\n",
       "\\hline\n",
       "\t 21.764056    & 4.864125     & 27.49877     &  4.474403    & 0.0001206188 & 0.6490845   \\\\\n",
       "\t -7.662556    & 6.397793     & 13.99980     & -1.197687    & 0.2509239810 & 0.3048601   \\\\\n",
       "\\end{tabular}\n"
      ],
      "text/markdown": [
       "\n",
       "Estimate | Std.Error | df | t.value | p.value | R.sqr | \n",
       "|---|---|\n",
       "| 21.764056    | 4.864125     | 27.49877     |  4.474403    | 0.0001206188 | 0.6490845    | \n",
       "| -7.662556    | 6.397793     | 13.99980     | -1.197687    | 0.2509239810 | 0.3048601    | \n",
       "\n",
       "\n"
      ],
      "text/plain": [
       "  Estimate  Std.Error df       t.value   p.value      R.sqr    \n",
       "1 21.764056 4.864125  27.49877  4.474403 0.0001206188 0.6490845\n",
       "2 -7.662556 6.397793  13.99980 -1.197687 0.2509239810 0.3048601"
      ]
     },
     "metadata": {},
     "output_type": "display_data"
    },
    {
     "data": {
      "image/png": "[encoded data removed]",
      "text/plain": [
       "plot without title"
      ]
     },
     "metadata": {},
     "output_type": "display_data"
    }
   ],
   "source": [
    "# averages per group\n",
    "time.per.condition.plot <- disappearance %>%\n",
    "    # Adjusting observers' means following Loftus & Masson (1994)\n",
    "    group_by(ID) %>%\n",
    "    mutate(ID.avg= mean(time.prop)) %>%\n",
    "    ungroup() %>%\n",
    "    mutate(overall.avg= mean(time.prop)) %>%\n",
    "    mutate(time.adjusted= time.prop - ID.avg + overall.avg) %>%\n",
    "\n",
    "    # computing group averages per condition\n",
    "    group_by(MasksN) %>%\n",
    "    summarise(time.avg= mean(time.adjusted),\n",
    "              time.serr= sd(time.adjusted)/sqrt(n()))\n",
    "\n",
    "\n",
    "# comparison to the baseline condition (M3)\n",
    "duration.lmer <- summary(lmerTest::lmer(time.prop ~ MasksN + (1|ID), data= disappearance))\n",
    "duration.lmer\n",
    "rcontrast<-function(t, df) {\n",
    "    return (sqrt(t^2/(t^2 + df)))\n",
    "}\n",
    "coefficients.only <- data.frame(duration.lmer$coefficients)\n",
    "colnames(coefficients.only) <- c('Estimate', 'Std.Error', 'df', 't.value', 'p.value')\n",
    "dplyr::mutate(coefficients.only, R.sqr= rcontrast(t.value, df))\n",
    "\n",
    "\n",
    "time.plot <- ggplot(data= time.per.condition.plot, aes(x= MasksN, y= time.avg, ymin= time.avg-time.serr, ymax= time.avg+time.serr))+\n",
    "    geom_errorbar(color= 'darkgreen', width=0.3)+\n",
    "    geom_point(color= 'darkgreen', size= 3) + \n",
    "    ylab('Disappearance time [%]') \n",
    "#     ggtitle('Average disappearance time across all targets')\n",
    "print(time.plot)\n",
    "ggsave('Figures/Exp3 - Kanitza visibility - disappearance duration.pdf', time.plot, width= 4, height= 5, units = 'cm', useDingbats = FALSE)"
   ]
  },
  {
   "cell_type": "markdown",
   "metadata": {},
   "source": [
    "## Proportion of time participant report that at the illusory Kanizsa triangle is visible"
   ]
  },
  {
   "cell_type": "code",
   "execution_count": 8,
   "metadata": {},
   "outputs": [],
   "source": [
    "visibility <- results %>%\n",
    "    # computing proportion for each block\n",
    "    group_by(ID, MasksN, Block) %>%\n",
    "    summarise(time.prop= sum(Duration[Target==0], na.rm= TRUE)/BlockDuration[1]) %>%\n",
    "\n",
    "    # averaging across blocks for each observer and condition\n",
    "    group_by(ID, MasksN) %>%\n",
    "    summarise(time.prop= 100*mean(time.prop))      \n",
    "\n",
    "visibility <- data.frame(visibility)"
   ]
  },
  {
   "cell_type": "markdown",
   "metadata": {},
   "source": [
    "Looking at the effect of the mask using linear-mixed models and Bayesian ANOVA"
   ]
  },
  {
   "cell_type": "code",
   "execution_count": 9,
   "metadata": {
    "scrolled": true
   },
   "outputs": [
    {
     "data": {
      "text/html": [
       "<table>\n",
       "<thead><tr><th></th><th scope=col>Df</th><th scope=col>AIC</th><th scope=col>BIC</th><th scope=col>logLik</th><th scope=col>deviance</th><th scope=col>Chisq</th><th scope=col>Chi Df</th><th scope=col>Pr(&gt;Chisq)</th></tr></thead>\n",
       "<tbody>\n",
       "\t<tr><th scope=row>lm.null</th><td>3         </td><td>290.0583  </td><td>294.2619  </td><td>-142.0292 </td><td>284.0583  </td><td>        NA</td><td>NA        </td><td>       NA </td></tr>\n",
       "\t<tr><th scope=row>lm.masks</th><td>4         </td><td>292.0146  </td><td>297.6194  </td><td>-142.0073 </td><td>284.0146  </td><td>0.04375087</td><td> 1        </td><td>0.8343178 </td></tr>\n",
       "</tbody>\n",
       "</table>\n"
      ],
      "text/latex": [
       "\\begin{tabular}{r|llllllll}\n",
       "  & Df & AIC & BIC & logLik & deviance & Chisq & Chi Df & Pr(>Chisq)\\\\\n",
       "\\hline\n",
       "\tlm.null & 3          & 290.0583   & 294.2619   & -142.0292  & 284.0583   &         NA & NA         &        NA \\\\\n",
       "\tlm.masks & 4          & 292.0146   & 297.6194   & -142.0073  & 284.0146   & 0.04375087 &  1         & 0.8343178 \\\\\n",
       "\\end{tabular}\n"
      ],
      "text/markdown": [
       "\n",
       "| <!--/--> | Df | AIC | BIC | logLik | deviance | Chisq | Chi Df | Pr(>Chisq) | \n",
       "|---|---|\n",
       "| lm.null | 3          | 290.0583   | 294.2619   | -142.0292  | 284.0583   |         NA | NA         |        NA  | \n",
       "| lm.masks | 4          | 292.0146   | 297.6194   | -142.0073  | 284.0146   | 0.04375087 |  1         | 0.8343178  | \n",
       "\n",
       "\n"
      ],
      "text/plain": [
       "         Df AIC      BIC      logLik    deviance Chisq      Chi Df Pr(>Chisq)\n",
       "lm.null  3  290.0583 294.2619 -142.0292 284.0583         NA NA            NA \n",
       "lm.masks 4  292.0146 297.6194 -142.0073 284.0146 0.04375087  1     0.8343178 "
      ]
     },
     "metadata": {},
     "output_type": "display_data"
    },
    {
     "data": {
      "text/plain": [
       "Bayes factor analysis\n",
       "--------------\n",
       "[1] MasksN + ID : 0.3455014 ±0.93%\n",
       "\n",
       "Against denominator:\n",
       "  time.prop ~ ID \n",
       "---\n",
       "Bayes factor type: BFlinearModel, JZS\n"
      ]
     },
     "metadata": {},
     "output_type": "display_data"
    }
   ],
   "source": [
    "lm.null <- lme4::lmer(time.prop ~ 1 + (1|ID), data= visibility, REML= FALSE)\n",
    "lm.masks <- update(lm.null, .~. + MasksN)\n",
    "anova(lm.null, lm.masks)\n",
    "\n",
    "set.seed(111122017)\n",
    "sort(anovaBF(time.prop ~ MasksN + ID, data= visibility, whichRandom = 'ID'))"
   ]
  },
  {
   "cell_type": "markdown",
   "metadata": {},
   "source": [
    "Plotting"
   ]
  },
  {
   "cell_type": "code",
   "execution_count": 10,
   "metadata": {},
   "outputs": [
    {
     "data": {
      "text/plain": [
       "Linear mixed model fit by REML t-tests use Satterthwaite approximations to\n",
       "  degrees of freedom [lmerMod]\n",
       "Formula: time.prop ~ MasksN + (1 | ID)\n",
       "   Data: visibility\n",
       "\n",
       "REML criterion at convergence: 272.4\n",
       "\n",
       "Scaled residuals: \n",
       "    Min      1Q  Median      3Q     Max \n",
       "-2.0904 -0.8505  0.1248  0.8483  1.3495 \n",
       "\n",
       "Random effects:\n",
       " Groups   Name        Variance Std.Dev.\n",
       " ID       (Intercept)   0       0.00   \n",
       " Residual             811      28.48   \n",
       "Number of obs: 30, groups:  ID, 15\n",
       "\n",
       "Fixed effects:\n",
       "            Estimate Std. Error     df t value Pr(>|t|)    \n",
       "(Intercept)   57.428      7.353 28.002   7.810 1.65e-08 ***\n",
       "MasksN1        2.102     10.399 28.002   0.202    0.841    \n",
       "---\n",
       "Signif. codes:  0 '***' 0.001 '**' 0.01 '*' 0.05 '.' 0.1 ' ' 1\n",
       "\n",
       "Correlation of Fixed Effects:\n",
       "        (Intr)\n",
       "MasksN1 -0.707"
      ]
     },
     "metadata": {},
     "output_type": "display_data"
    },
    {
     "data": {
      "text/html": [
       "<table>\n",
       "<thead><tr><th scope=col>Estimate</th><th scope=col>Std.Error</th><th scope=col>df</th><th scope=col>t.value</th><th scope=col>p.value</th><th scope=col>R.sqr</th></tr></thead>\n",
       "<tbody>\n",
       "\t<tr><td>57.427889   </td><td> 7.353005   </td><td>28.00231    </td><td>7.8101251   </td><td>1.654739e-08</td><td>0.82786992  </td></tr>\n",
       "\t<tr><td> 2.102083   </td><td>10.398719   </td><td>28.00231    </td><td>0.2021483   </td><td>8.412623e-01</td><td>0.03817302  </td></tr>\n",
       "</tbody>\n",
       "</table>\n"
      ],
      "text/latex": [
       "\\begin{tabular}{r|llllll}\n",
       " Estimate & Std.Error & df & t.value & p.value & R.sqr\\\\\n",
       "\\hline\n",
       "\t 57.427889    &  7.353005    & 28.00231     & 7.8101251    & 1.654739e-08 & 0.82786992  \\\\\n",
       "\t  2.102083    & 10.398719    & 28.00231     & 0.2021483    & 8.412623e-01 & 0.03817302  \\\\\n",
       "\\end{tabular}\n"
      ],
      "text/markdown": [
       "\n",
       "Estimate | Std.Error | df | t.value | p.value | R.sqr | \n",
       "|---|---|\n",
       "| 57.427889    |  7.353005    | 28.00231     | 7.8101251    | 1.654739e-08 | 0.82786992   | \n",
       "|  2.102083    | 10.398719    | 28.00231     | 0.2021483    | 8.412623e-01 | 0.03817302   | \n",
       "\n",
       "\n"
      ],
      "text/plain": [
       "  Estimate  Std.Error df       t.value   p.value      R.sqr     \n",
       "1 57.427889  7.353005 28.00231 7.8101251 1.654739e-08 0.82786992\n",
       "2  2.102083 10.398719 28.00231 0.2021483 8.412623e-01 0.03817302"
      ]
     },
     "metadata": {},
     "output_type": "display_data"
    },
    {
     "data": {
      "image/png": "[encoded data removed]",
      "text/plain": [
       "plot without title"
      ]
     },
     "metadata": {},
     "output_type": "display_data"
    }
   ],
   "source": [
    "# averages per group\n",
    "time.per.condition.plot <- visibility %>%\n",
    "    # Adjusting observers' means following Loftus & Masson (1994)\n",
    "    group_by(ID) %>%\n",
    "    mutate(ID.avg= mean(time.prop)) %>%\n",
    "    ungroup() %>%\n",
    "    mutate(overall.avg= mean(time.prop)) %>%\n",
    "    mutate(time.adjusted= time.prop - ID.avg + overall.avg) %>%\n",
    "\n",
    "    # computing group averages per condition\n",
    "    group_by(MasksN) %>%\n",
    "    summarise(time.avg= mean(time.adjusted),\n",
    "              time.serr= sd(time.adjusted)/sqrt(n()))\n",
    "\n",
    "\n",
    "# comparison to the baseline condition (M3)\n",
    "duration.lmer <- summary(lmerTest::lmer(time.prop ~ MasksN + (1|ID), data= visibility))\n",
    "duration.lmer\n",
    "rcontrast<-function(t, df) {\n",
    "    return (sqrt(t^2/(t^2 + df)))\n",
    "}\n",
    "coefficients.only <- data.frame(duration.lmer$coefficients)\n",
    "colnames(coefficients.only) <- c('Estimate', 'Std.Error', 'df', 't.value', 'p.value')\n",
    "dplyr::mutate(coefficients.only, R.sqr= rcontrast(t.value, df))\n",
    "\n",
    "\n",
    "time.plot <- ggplot(data= time.per.condition.plot, aes(x= MasksN, y= time.avg, ymin= time.avg-time.serr, ymax= time.avg+time.serr))+\n",
    "    geom_errorbar(color= 'orange', width=0.3)+\n",
    "    geom_point(color= 'orange', size= 3) + \n",
    "    ylab('visibility time [%]') \n",
    "#     ggtitle('Average visibility time across all targets')\n",
    "print(time.plot)\n",
    "ggsave('Figures/Exp3 - Kanitza visibility - visibility duration.pdf', time.plot, width= 4, height= 5, units = 'cm', useDingbats = FALSE)"
   ]
  }
 ],
 "metadata": {
  "kernelspec": {
   "display_name": "R",
   "language": "R",
   "name": "ir"
  },
  "language_info": {
   "codemirror_mode": "r",
   "file_extension": ".r",
   "mimetype": "text/x-r-source",
   "name": "R",
   "pygments_lexer": "r",
   "version": "3.4.2"
  }
 },
 "nbformat": 4,
 "nbformat_minor": 2
}
