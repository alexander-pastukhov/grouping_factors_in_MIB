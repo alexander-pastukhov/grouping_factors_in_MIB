{
 "cells": [
  {
   "cell_type": "markdown",
   "metadata": {},
   "source": [
    "# Experiment 2. Preliminary data import for the main experiment."
   ]
  },
  {
   "cell_type": "code",
   "execution_count": 1,
   "metadata": {
    "collapsed": true
   },
   "outputs": [],
   "source": [
    "import os\n",
    "import pandas as pd\n",
    "import numpy as np\n",
    "import os"
   ]
  },
  {
   "cell_type": "code",
   "execution_count": 2,
   "metadata": {
    "collapsed": true
   },
   "outputs": [],
   "source": [
    "### constants\n",
    "data_folder= 'Experiment 2'\n",
    "buttons= ['J', 'K']\n",
    "event_code= ['Pressed', 'Released']\n",
    "observerN= 15"
   ]
  },
  {
   "cell_type": "code",
   "execution_count": 10,
   "metadata": {
    "collapsed": true
   },
   "outputs": [],
   "source": [
    "### block conditions for each observers\n",
    "observer_conditions= pd.read_csv(os.path.join(data_folder, 'Experiment2_BlockList.csv'), sep=';')"
   ]
  },
  {
   "cell_type": "markdown",
   "metadata": {},
   "source": [
    "### Importing all responses into a single table `Experiment2_Response.csv`"
   ]
  },
  {
   "cell_type": "code",
   "execution_count": 24,
   "metadata": {
    "collapsed": false
   },
   "outputs": [],
   "source": [
    "### importing all responses into a single table\n",
    "dfDict= {'ID': [], 'Block':[], 'ConditionLabel': [], 'Time': [], 'Key': [], 'EventLabel': [], 'Target': [], 'Event': []}\n",
    "for iO in range(1, observerN+1):\n",
    "    with open(os.path.join(data_folder, 's%02d.txt'%(iO)), 'rt') as response_file:\n",
    "        current_block= 1\n",
    "        block_has_started= False\n",
    "        data_lines= 0\n",
    "        for current_line in response_file:\n",
    "            # skipping the \"start of the block\" line\n",
    "            if current_line[:len(\"--Activated\")]==\"--Activated\":\n",
    "                # advancing block counter\n",
    "                if block_has_started:\n",
    "                    ## end of the previous block\n",
    "                    dfDict['ID'].append('s%02d'%(iO))\n",
    "                    dfDict['Block'].append(current_block)\n",
    "                    dfDict['ConditionLabel'].append(observer_conditions['%d'%(current_block)][observer_conditions.ID==iO].values[0])\n",
    "                    dfDict['Time'].append(possible_end_of_block_time)\n",
    "                    dfDict['Key'].append(subfields[-1][0])\n",
    "                    dfDict['EventLabel'].append('Block end')\n",
    "                    dfDict['Target'].append(-1)\n",
    "                    dfDict['Event'].append(200)\n",
    "                    \n",
    "                    # preparing counters for the next block\n",
    "                    current_block+= 1\n",
    "                    block_has_started= False\n",
    "                    data_lines= 0\n",
    "                continue\n",
    "                \n",
    "            # skipping over an empty line\n",
    "            if len(current_line.strip())==0:\n",
    "                continue\n",
    "            \n",
    "            subfields= current_line.split()\n",
    "            # parsing time into seconds\n",
    "            time_components= subfields[0].split(':') # assuming the hours:minutes:float_seconds\n",
    "            if len(time_components)==1: # \n",
    "                time_components= subfields[0].split('-') # nope, this is hours-minutes-float_seconds\n",
    "            if len(time_components)==1:\n",
    "                continue # yet something else, definitely not the relevant response line\n",
    "            four_time_components= np.concatenate([time_components[0:-1], time_components[-1].split('.')])\n",
    "            time_in_seconds= np.sum(np.array(four_time_components).astype('float')*np.array([60*60, 60, 1, 1/100.0]))\n",
    "\n",
    "            if subfields[-1][0] in buttons: # response buttons\n",
    "                data_lines+= 1\n",
    "                # adding the next line to the dictionary\n",
    "                dfDict['ID'].append('s%02d'%(iO))\n",
    "                dfDict['Block'].append(current_block)\n",
    "                dfDict['ConditionLabel'].append(observer_conditions['%d'%(current_block)][observer_conditions.ID==iO].values[0])\n",
    "                dfDict['Time'].append(time_in_seconds)\n",
    "\n",
    "                # parsing event into target and event type\n",
    "                dfDict['Key'].append(subfields[-1][0])\n",
    "                dfDict['EventLabel'].append(subfields[-1].strip()[2:-1])\n",
    "                dfDict['Target'].append(buttons.index(subfields[-1][0]))\n",
    "                dfDict['Event'].append(event_code.index(subfields[-1].strip()[2:-1]))\n",
    "            elif subfields[-1][0] in ['E', 'R']: # special event\n",
    "                if not block_has_started and subfields[-1].strip()[2:-1]=='Released': \n",
    "                    ## block start\n",
    "                    dfDict['ID'].append('s%02d'%(iO))\n",
    "                    dfDict['Block'].append(current_block)\n",
    "                    dfDict['ConditionLabel'].append(observer_conditions['%d'%(current_block)][observer_conditions.ID==iO].values[0])\n",
    "                    dfDict['Time'].append(time_in_seconds)\n",
    "                    dfDict['Key'].append(subfields[-1][0])\n",
    "                    dfDict['EventLabel'].append('Block start')\n",
    "                    dfDict['Target'].append(-1)\n",
    "                    dfDict['Event'].append(100)\n",
    "                    block_has_started= True\n",
    "                elif subfields[-1].strip()[2:-1]=='Pressed':\n",
    "                    possible_end_of_block_time= time_in_seconds\n",
    "            else:\n",
    "                data_lines+= 1\n",
    "                \n",
    "    ## end of the last block\n",
    "    dfDict['ID'].append('s%02d'%(iO))\n",
    "    dfDict['Block'].append(current_block)\n",
    "    dfDict['ConditionLabel'].append(observer_conditions['%d'%(current_block)][observer_conditions.ID==iO].values[0])\n",
    "    dfDict['Time'].append(possible_end_of_block_time)\n",
    "    dfDict['Key'].append(subfields[-1][0])\n",
    "    dfDict['EventLabel'].append('Block end')\n",
    "    dfDict['Target'].append(-1)\n",
    "    dfDict['Event'].append(200)\n",
    "\n",
    "            \n",
    "responses= pd.DataFrame(dfDict, columns=['ID', 'Block', 'ConditionLabel', 'Time', 'Target', 'Event', 'Key', 'EventLabel'])\n",
    "responses.to_csv(os.path.join(data_folder, 'Experiment2_Response.csv'), sep=';', index= False)"
   ]
  },
  {
   "cell_type": "markdown",
   "metadata": {},
   "source": [
    "### Converting key presses into the sequence of subjective states, saved in `Experiment2_SubjectiveStateChange.csv`"
   ]
  },
  {
   "cell_type": "code",
   "execution_count": 28,
   "metadata": {
    "collapsed": false
   },
   "outputs": [
    {
     "name": "stdout",
     "output_type": "stream",
     "text": []
    }
   ],
   "source": [
    "### turning responses into the sequence of subjective states'\n",
    "subjective_state_change= pd.DataFrame(columns= ['ID', 'Block', 'BlockDuration', 'ConditionLabel', 'Trial', 'TargetCount', 'Time', 'Duration'])\n",
    "for current_ID in responses.ID.unique():\n",
    "    print('Obsrver %s'%(current_ID), end=': block ')\n",
    "    for current_block in responses.Block[responses.ID==current_ID].unique():\n",
    "        print('%d'%(current_block), end=' ')\n",
    "        iBlockTrials= responses[(responses.ID==current_ID) & (responses.Block==current_block)].index\n",
    "        \n",
    "        # figuring out block start-end-duration\n",
    "        current_block_start= responses.Time[(responses.ID==current_ID) & (responses.Block==current_block) & (responses.EventLabel=='Block start')].values[0]\n",
    "        current_block_end= responses.Time[(responses.ID==current_ID) & (responses.Block==current_block) & (responses.EventLabel=='Block end')].values[0]\n",
    "        current_block_duration=current_block_end-current_block_start \n",
    "\n",
    "        # block constants\n",
    "        current_entry= {'ID': current_ID, \n",
    "                        'Block': current_block, \n",
    "                        'BlockDuration': current_block_duration,\n",
    "                        'ConditionLabel': responses.ConditionLabel[iBlockTrials[0]]}        \n",
    "        \n",
    "        # adding an onset state - all visibile\n",
    "        current_entry['Trial']= 0\n",
    "        current_entry['TargetCount']= 2\n",
    "        current_entry['Duration']= 0\n",
    "        current_entry['Time']= 0\n",
    "        subjective_state_change.loc[subjective_state_change.shape[0]] = pd.Series(current_entry)\n",
    "        \n",
    "        CurrentTargetCount= 2\n",
    "        PrevioiusEventTime= 0\n",
    "        # going through events\n",
    "        for iTrial, iRow in enumerate(iBlockTrials[1:-1]): # first and last events are labels for start and end of the block\n",
    "            current_entry['Trial']= iTrial+1\n",
    "            if responses.Event[iRow]==0:\n",
    "                CurrentTargetCount-= 1\n",
    "            else:\n",
    "                CurrentTargetCount+= 1\n",
    "            current_entry['TargetCount']= CurrentTargetCount\n",
    "            current_entry['Time']=  responses.Time[iRow]-current_block_start\n",
    "            subjective_state_change.set_value(len(subjective_state_change)-1, 'Duration', current_entry['Time']-PrevioiusEventTime)\n",
    "            if iTrial==len(iBlockTrials)-2: # the last trial\n",
    "                current_entry['Duration']= current_block_duration-current_entry['Time']\n",
    "            PrevioiusEventTime= current_entry['Time']\n",
    "            subjective_state_change.loc[subjective_state_change.shape[0]] = pd.Series(current_entry)\n",
    "    print('\\r', end='')\n",
    "subjective_state_change.to_csv(os.path.join('Experiment 2', 'Experiment2_SubjectiveStateChange.csv'), sep=';', index= False)"
   ]
  }
 ],
 "metadata": {
  "kernelspec": {
   "display_name": "Python 3",
   "language": "python",
   "name": "python3"
  },
  "language_info": {
   "codemirror_mode": {
    "name": "ipython",
    "version": 3
   },
   "file_extension": ".py",
   "mimetype": "text/x-python",
   "name": "python",
   "nbconvert_exporter": "python",
   "pygments_lexer": "ipython3",
   "version": "3.5.2"
  }
 },
 "nbformat": 4,
 "nbformat_minor": 0
}
