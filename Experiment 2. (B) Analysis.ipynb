{
 "cells": [
  {
   "cell_type": "markdown",
   "metadata": {},
   "source": [
    "# Analysis for Experiment 2"
   ]
  },
  {
   "cell_type": "code",
   "execution_count": 11,
   "metadata": {},
   "outputs": [],
   "source": [
    "rm(list= ls())"
   ]
  },
  {
   "cell_type": "code",
   "execution_count": 12,
   "metadata": {},
   "outputs": [],
   "source": [
    "library(dplyr)\n",
    "library(lme4)\n",
    "library(lmerTest)\n",
    "library(BayesFactor)\n",
    "library(ggplot2)\n",
    "library(stringr)"
   ]
  },
  {
   "cell_type": "code",
   "execution_count": 13,
   "metadata": {},
   "outputs": [],
   "source": [
    "data.folder <- 'Experiment 2. Illusory Triangle and Common Region'\n",
    "results <- read.csv(file.path(data.folder, 'Experiment2_Main.csv'), sep = ';')"
   ]
  },
  {
   "cell_type": "markdown",
   "metadata": {},
   "source": [
    "## Analysis of disappearance duration: at least one target is invisible"
   ]
  },
  {
   "cell_type": "code",
   "execution_count": 14,
   "metadata": {},
   "outputs": [
    {
     "data": {
      "text/html": [
       "<table>\n",
       "<thead><tr><th></th><th scope=col>Df</th><th scope=col>AIC</th><th scope=col>BIC</th><th scope=col>logLik</th><th scope=col>deviance</th><th scope=col>Chisq</th><th scope=col>Chi Df</th><th scope=col>Pr(&gt;Chisq)</th></tr></thead>\n",
       "<tbody>\n",
       "\t<tr><th scope=row>lm.null</th><td>3         </td><td>-160.7640 </td><td>-153.3320 </td><td>83.38201  </td><td>-166.7640 </td><td>        NA</td><td>NA        </td><td>        NA</td></tr>\n",
       "\t<tr><th scope=row>lm.masks</th><td>4         </td><td>-160.4674 </td><td>-150.5580 </td><td>84.23370  </td><td>-168.4674 </td><td>1.70337672</td><td> 1        </td><td>0.19184697</td></tr>\n",
       "\t<tr><th scope=row>lm.aligned</th><td>5         </td><td>-161.9873 </td><td>-149.6006 </td><td>85.99365  </td><td>-171.9873 </td><td>3.51989653</td><td> 1        </td><td>0.06063623</td></tr>\n",
       "\t<tr><th scope=row>lm.interaction</th><td>6         </td><td>-160.0013 </td><td>-145.1372 </td><td>86.00064  </td><td>-172.0013 </td><td>0.01398031</td><td> 1        </td><td>0.90587880</td></tr>\n",
       "</tbody>\n",
       "</table>\n"
      ],
      "text/latex": [
       "\\begin{tabular}{r|llllllll}\n",
       "  & Df & AIC & BIC & logLik & deviance & Chisq & Chi Df & Pr(>Chisq)\\\\\n",
       "\\hline\n",
       "\tlm.null & 3          & -160.7640  & -153.3320  & 83.38201   & -166.7640  &         NA & NA         &         NA\\\\\n",
       "\tlm.masks & 4          & -160.4674  & -150.5580  & 84.23370   & -168.4674  & 1.70337672 &  1         & 0.19184697\\\\\n",
       "\tlm.aligned & 5          & -161.9873  & -149.6006  & 85.99365   & -171.9873  & 3.51989653 &  1         & 0.06063623\\\\\n",
       "\tlm.interaction & 6          & -160.0013  & -145.1372  & 86.00064   & -172.0013  & 0.01398031 &  1         & 0.90587880\\\\\n",
       "\\end{tabular}\n"
      ],
      "text/markdown": [
       "\n",
       "| <!--/--> | Df | AIC | BIC | logLik | deviance | Chisq | Chi Df | Pr(>Chisq) | \n",
       "|---|---|---|---|\n",
       "| lm.null | 3          | -160.7640  | -153.3320  | 83.38201   | -166.7640  |         NA | NA         |         NA | \n",
       "| lm.masks | 4          | -160.4674  | -150.5580  | 84.23370   | -168.4674  | 1.70337672 |  1         | 0.19184697 | \n",
       "| lm.aligned | 5          | -161.9873  | -149.6006  | 85.99365   | -171.9873  | 3.51989653 |  1         | 0.06063623 | \n",
       "| lm.interaction | 6          | -160.0013  | -145.1372  | 86.00064   | -172.0013  | 0.01398031 |  1         | 0.90587880 | \n",
       "\n",
       "\n"
      ],
      "text/plain": [
       "               Df AIC       BIC       logLik   deviance  Chisq      Chi Df\n",
       "lm.null        3  -160.7640 -153.3320 83.38201 -166.7640         NA NA    \n",
       "lm.masks       4  -160.4674 -150.5580 84.23370 -168.4674 1.70337672  1    \n",
       "lm.aligned     5  -161.9873 -149.6006 85.99365 -171.9873 3.51989653  1    \n",
       "lm.interaction 6  -160.0013 -145.1372 86.00064 -172.0013 0.01398031  1    \n",
       "               Pr(>Chisq)\n",
       "lm.null                NA\n",
       "lm.masks       0.19184697\n",
       "lm.aligned     0.06063623\n",
       "lm.interaction 0.90587880"
      ]
     },
     "metadata": {},
     "output_type": "display_data"
    }
   ],
   "source": [
    "subjective.states <- read.csv(file.path(data.folder, 'Experiment2_DisappearanceDuration.csv'), sep=';') #Experiment 1 - state duration.csv')\n",
    "\n",
    "subjective.states <- subjective.states %>%\n",
    "    # excluding training blocks\n",
    "    filter(BlockDuration>30) %>% \n",
    "\n",
    "    # labelling individual condition for plotting\n",
    "    mutate(Condition= sprintf('%s%d', c('M', 'A')[Aligned+1], MasksN)) %>% \n",
    "    mutate(Condition= factor(Condition, levels= c('M3', 'M1', 'A3', 'A1')))\n",
    "\n",
    "subjective.states <- data.frame(subjective.states)\n",
    "subjective.states$MasksN <- as.factor(subjective.states$MasksN)\n",
    "subjective.states$Aligned <- as.factor(subjective.states$Aligned)\n",
    "\n",
    "disappearance.time <- subjective.states %>%\n",
    "    group_by(ID, Aligned, MasksN) %>%\n",
    "    summarise(time.proportion= sum(Duration[TargetCount<3])/BlockDuration[1])\n",
    "disappearance.time <- data.frame(disappearance.time)\n",
    "\n",
    "lm.null <- lme4::lmer(time.proportion ~ 1 + (1|ID), data= disappearance.time, REML= FALSE)\n",
    "lm.masks <- update(lm.null, .~. + MasksN)\n",
    "lm.aligned <- update(lm.masks, .~. + Aligned)\n",
    "lm.interaction <- update(lm.aligned, .~. + MasksN*Aligned)\n",
    "anova(lm.null, lm.masks, lm.aligned, lm.interaction)"
   ]
  },
  {
   "cell_type": "markdown",
   "metadata": {},
   "source": [
    "Same analysis but using Bayesian ANOVA"
   ]
  },
  {
   "cell_type": "code",
   "execution_count": 15,
   "metadata": {},
   "outputs": [
    {
     "data": {
      "text/plain": [
       "Bayes factor analysis\n",
       "--------------\n",
       "[1] Aligned + ID                           : 0.9749076 ±1.1%\n",
       "[2] Aligned + MasksN + ID                  : 0.4557582 ±1.3%\n",
       "[3] MasksN + ID                            : 0.4551943 ±1.02%\n",
       "[4] Aligned + MasksN + Aligned:MasksN + ID : 0.1383031 ±3.88%\n",
       "\n",
       "Against denominator:\n",
       "  time.proportion ~ ID \n",
       "---\n",
       "Bayes factor type: BFlinearModel, JZS\n"
      ]
     },
     "metadata": {},
     "output_type": "display_data"
    }
   ],
   "source": [
    "# seeding random generator to ensure reproducable Bayesian MCMC results\n",
    "set.seed(111122017)\n",
    "duration.bayes <- sort(anovaBF(time.proportion ~ MasksN + Aligned + ID, data= disappearance.time, whichRandom = 'ID'), \n",
    "                       decreasing = TRUE)\n",
    "duration.bayes"
   ]
  },
  {
   "cell_type": "code",
   "execution_count": 26,
   "metadata": {},
   "outputs": [
    {
     "data": {
      "text/plain": [
       "Linear mixed model fit by REML t-tests use Satterthwaite approximations to\n",
       "  degrees of freedom [lmerMod]\n",
       "Formula: time.proportion ~ Condition + (1 | ID)\n",
       "   Data: time.per.condition.lmer\n",
       "\n",
       "REML criterion at convergence: -147.9\n",
       "\n",
       "Scaled residuals: \n",
       "     Min       1Q   Median       3Q      Max \n",
       "-1.98656 -0.56242 -0.05411  0.44596  2.30185 \n",
       "\n",
       "Random effects:\n",
       " Groups   Name        Variance Std.Dev.\n",
       " ID       (Intercept) 0.01014  0.10069 \n",
       " Residual             0.00500  0.07071 \n",
       "Number of obs: 88, groups:  ID, 22\n",
       "\n",
       "Fixed effects:\n",
       "            Estimate Std. Error       df t value Pr(>|t|)    \n",
       "(Intercept)  0.23544    0.02623 35.81000   8.975 1.08e-10 ***\n",
       "ConditionM1 -0.01813    0.02132 63.00000  -0.850   0.3983    \n",
       "ConditionA3 -0.02627    0.02132 63.00000  -1.232   0.2225    \n",
       "ConditionA1 -0.04788    0.02132 63.00000  -2.246   0.0282 *  \n",
       "---\n",
       "Signif. codes:  0 '***' 0.001 '**' 0.01 '*' 0.05 '.' 0.1 ' ' 1\n",
       "\n",
       "Correlation of Fixed Effects:\n",
       "            (Intr) CndtM1 CndtA3\n",
       "ConditionM1 -0.406              \n",
       "ConditionA3 -0.406  0.500       \n",
       "ConditionA1 -0.406  0.500  0.500"
      ]
     },
     "metadata": {},
     "output_type": "display_data"
    },
    {
     "data": {
      "text/html": [
       "<table>\n",
       "<thead><tr><th scope=col>Estimate</th><th scope=col>Std.Error</th><th scope=col>df</th><th scope=col>t.value</th><th scope=col>p.value</th><th scope=col>R.sqr</th></tr></thead>\n",
       "<tbody>\n",
       "\t<tr><td> 0.23544242 </td><td>0.02623189  </td><td>35.81351    </td><td> 8.9754258  </td><td>1.076690e-10</td><td>0.8320151   </td></tr>\n",
       "\t<tr><td>-0.01813182 </td><td>0.02132065  </td><td>63.00021    </td><td>-0.8504348  </td><td>3.983040e-01</td><td>0.1065348   </td></tr>\n",
       "\t<tr><td>-0.02626818 </td><td>0.02132065  </td><td>63.00021    </td><td>-1.2320538  </td><td>2.225076e-01</td><td>0.1533870   </td></tr>\n",
       "\t<tr><td>-0.04788333 </td><td>0.02132065  </td><td>63.00021    </td><td>-2.2458670  </td><td>2.822836e-02</td><td>0.2722630   </td></tr>\n",
       "</tbody>\n",
       "</table>\n"
      ],
      "text/latex": [
       "\\begin{tabular}{r|llllll}\n",
       " Estimate & Std.Error & df & t.value & p.value & R.sqr\\\\\n",
       "\\hline\n",
       "\t  0.23544242  & 0.02623189   & 35.81351     &  8.9754258   & 1.076690e-10 & 0.8320151   \\\\\n",
       "\t -0.01813182  & 0.02132065   & 63.00021     & -0.8504348   & 3.983040e-01 & 0.1065348   \\\\\n",
       "\t -0.02626818  & 0.02132065   & 63.00021     & -1.2320538   & 2.225076e-01 & 0.1533870   \\\\\n",
       "\t -0.04788333  & 0.02132065   & 63.00021     & -2.2458670   & 2.822836e-02 & 0.2722630   \\\\\n",
       "\\end{tabular}\n"
      ],
      "text/markdown": [
       "\n",
       "Estimate | Std.Error | df | t.value | p.value | R.sqr | \n",
       "|---|---|---|---|\n",
       "|  0.23544242  | 0.02623189   | 35.81351     |  8.9754258   | 1.076690e-10 | 0.8320151    | \n",
       "| -0.01813182  | 0.02132065   | 63.00021     | -0.8504348   | 3.983040e-01 | 0.1065348    | \n",
       "| -0.02626818  | 0.02132065   | 63.00021     | -1.2320538   | 2.225076e-01 | 0.1533870    | \n",
       "| -0.04788333  | 0.02132065   | 63.00021     | -2.2458670   | 2.822836e-02 | 0.2722630    | \n",
       "\n",
       "\n"
      ],
      "text/plain": [
       "  Estimate    Std.Error  df       t.value    p.value      R.sqr    \n",
       "1  0.23544242 0.02623189 35.81351  8.9754258 1.076690e-10 0.8320151\n",
       "2 -0.01813182 0.02132065 63.00021 -0.8504348 3.983040e-01 0.1065348\n",
       "3 -0.02626818 0.02132065 63.00021 -1.2320538 2.225076e-01 0.1533870\n",
       "4 -0.04788333 0.02132065 63.00021 -2.2458670 2.822836e-02 0.2722630"
      ]
     },
     "metadata": {},
     "output_type": "display_data"
    },
    {
     "data": {
      "image/png": "[encoded data removed]",
      "text/plain": [
       "plot without title"
      ]
     },
     "metadata": {},
     "output_type": "display_data"
    }
   ],
   "source": [
    "# averages per group\n",
    "time.per.condition.plot <- subjective.states %>%\n",
    "\n",
    "    # computing observer proportion per condition\n",
    "    group_by(ID, Condition) %>%\n",
    "    summarise(time.proportion= sum(Duration[TargetCount<3])/BlockDuration[1]) %>%\n",
    "\n",
    "    # Adjusting observers' means following Loftus & Masson (1994)\n",
    "    group_by(ID) %>%\n",
    "    mutate(ID.avg= mean(time.proportion)) %>%\n",
    "    ungroup() %>%\n",
    "    mutate(overall.avg= mean(time.proportion)) %>%\n",
    "    mutate(time.adjusted= time.proportion - ID.avg + overall.avg) %>%\n",
    "\n",
    "    # computing group averages per condition\n",
    "    group_by(Condition) %>%\n",
    "    summarise(time.avg= mean(time.adjusted*100),\n",
    "              time.serr= sd(time.adjusted*100)/sqrt(n()))\n",
    "\n",
    "# averages per condition x observer for linear mixed models\n",
    "time.per.condition.lmer <- subjective.states %>%\n",
    "    # computing observer proportion per condition\n",
    "    group_by(ID, Condition) %>%\n",
    "    summarise(time.proportion= sum(Duration[TargetCount<3])/BlockDuration[1])\n",
    "\n",
    "# comparison to the baseline condition (M3)\n",
    "duration.lmer <- summary(lmerTest::lmer(time.proportion ~ Condition + (1|ID), data= time.per.condition.lmer))\n",
    "duration.lmer\n",
    "rcontrast<-function(t, df) {\n",
    "    return (sqrt(t^2/(t^2 + df)))\n",
    "}\n",
    "coefficients.only <- data.frame(duration.lmer$coefficients)\n",
    "colnames(coefficients.only) <- c('Estimate', 'Std.Error', 'df', 't.value', 'p.value')\n",
    "dplyr::mutate(coefficients.only, R.sqr= rcontrast(t.value, df))\n",
    "\n",
    "# plot\n",
    "time.plot <- ggplot(data= time.per.condition.plot, aes(x= Condition, y= time.avg, ymin= time.avg-time.serr, ymax= time.avg+time.serr))+\n",
    "    geom_errorbar(color= 'darkgreen', width=0.3)+\n",
    "    geom_point(color= 'darkgreen', size= 3) + \n",
    "    ylab('Disappearance time [%]') +\n",
    "    ggtitle('Proportion of time when at least one target was invisible')\n",
    "print(time.plot)\n"
   ]
  },
  {
   "cell_type": "markdown",
   "metadata": {},
   "source": [
    "## Simultaneity of appearance and disappearance events \n",
    "\n",
    "Loading preprocessed data"
   ]
  },
  {
   "cell_type": "code",
   "execution_count": 17,
   "metadata": {},
   "outputs": [],
   "source": [
    "results <- results %>%\n",
    "    # excluding training blocks\n",
    "    filter(Duration>30) %>% \n",
    "\n",
    "    # labelling individual condition for plotting\n",
    "    mutate(Condition= sprintf('%s%d', c('M', 'A')[Aligned+1], MasksN)) %>% \n",
    "    mutate(Condition= factor(Condition, levels= c('M3', 'M1', 'A3', 'A1')))\n",
    "\n",
    "results$MasksN <- as.factor(results$MasksN)\n",
    "results$Aligned <- as.factor(results$Aligned)\n",
    "results$Event <- as.factor(results$Event)"
   ]
  },
  {
   "cell_type": "markdown",
   "metadata": {},
   "source": [
    "Using hierarchical linear mixed models to quantify effect of individual factors"
   ]
  },
  {
   "cell_type": "code",
   "execution_count": 18,
   "metadata": {
    "scrolled": true
   },
   "outputs": [
    {
     "data": {
      "text/html": [
       "<table>\n",
       "<thead><tr><th></th><th scope=col>Df</th><th scope=col>AIC</th><th scope=col>BIC</th><th scope=col>logLik</th><th scope=col>deviance</th><th scope=col>Chisq</th><th scope=col>Chi Df</th><th scope=col>Pr(&gt;Chisq)</th></tr></thead>\n",
       "<tbody>\n",
       "\t<tr><th scope=row>lm.null</th><td> 3          </td><td>-105.1527   </td><td> -95.64124  </td><td>55.57635    </td><td>-111.1527   </td><td>          NA</td><td>NA          </td><td>          NA</td></tr>\n",
       "\t<tr><th scope=row>lm.masks</th><td> 4          </td><td>-121.6001   </td><td>-108.91812  </td><td>64.80003    </td><td>-129.6001   </td><td>18.447362788</td><td> 1          </td><td>1.746624e-05</td></tr>\n",
       "\t<tr><th scope=row>lm.aligned</th><td> 5          </td><td>-119.6710   </td><td>-103.81853  </td><td>64.83548    </td><td>-129.6710   </td><td> 0.070893611</td><td> 1          </td><td>7.900401e-01</td></tr>\n",
       "\t<tr><th scope=row>lm.event</th><td> 6          </td><td>-117.6786   </td><td> -98.65566  </td><td>64.83928    </td><td>-129.6786   </td><td> 0.007616687</td><td> 1          </td><td>9.304540e-01</td></tr>\n",
       "\t<tr><th scope=row>lm.mask.align</th><td> 7          </td><td>-116.0219   </td><td> -93.82855  </td><td>65.01097    </td><td>-130.0219   </td><td> 0.343374194</td><td> 1          </td><td>5.578880e-01</td></tr>\n",
       "\t<tr><th scope=row>lm.mask.event</th><td> 8          </td><td>-115.0556   </td><td> -89.69175  </td><td>65.52781    </td><td>-131.0556   </td><td> 1.033679430</td><td> 1          </td><td>3.092960e-01</td></tr>\n",
       "\t<tr><th scope=row>lm.align.event</th><td> 9          </td><td>-113.1293   </td><td> -84.59491  </td><td>65.56463    </td><td>-131.1293   </td><td> 0.073640086</td><td> 1          </td><td>7.861087e-01</td></tr>\n",
       "\t<tr><th scope=row>lm.full.interaction</th><td>10          </td><td>-111.1936   </td><td> -79.48878  </td><td>65.59681    </td><td>-131.1936   </td><td> 0.064362355</td><td> 1          </td><td>7.997294e-01</td></tr>\n",
       "</tbody>\n",
       "</table>\n"
      ],
      "text/latex": [
       "\\begin{tabular}{r|llllllll}\n",
       "  & Df & AIC & BIC & logLik & deviance & Chisq & Chi Df & Pr(>Chisq)\\\\\n",
       "\\hline\n",
       "\tlm.null &  3           & -105.1527    &  -95.64124   & 55.57635     & -111.1527    &           NA & NA           &           NA\\\\\n",
       "\tlm.masks &  4           & -121.6001    & -108.91812   & 64.80003     & -129.6001    & 18.447362788 &  1           & 1.746624e-05\\\\\n",
       "\tlm.aligned &  5           & -119.6710    & -103.81853   & 64.83548     & -129.6710    &  0.070893611 &  1           & 7.900401e-01\\\\\n",
       "\tlm.event &  6           & -117.6786    &  -98.65566   & 64.83928     & -129.6786    &  0.007616687 &  1           & 9.304540e-01\\\\\n",
       "\tlm.mask.align &  7           & -116.0219    &  -93.82855   & 65.01097     & -130.0219    &  0.343374194 &  1           & 5.578880e-01\\\\\n",
       "\tlm.mask.event &  8           & -115.0556    &  -89.69175   & 65.52781     & -131.0556    &  1.033679430 &  1           & 3.092960e-01\\\\\n",
       "\tlm.align.event &  9           & -113.1293    &  -84.59491   & 65.56463     & -131.1293    &  0.073640086 &  1           & 7.861087e-01\\\\\n",
       "\tlm.full.interaction & 10           & -111.1936    &  -79.48878   & 65.59681     & -131.1936    &  0.064362355 &  1           & 7.997294e-01\\\\\n",
       "\\end{tabular}\n"
      ],
      "text/markdown": [
       "\n",
       "| <!--/--> | Df | AIC | BIC | logLik | deviance | Chisq | Chi Df | Pr(>Chisq) | \n",
       "|---|---|---|---|---|---|---|---|\n",
       "| lm.null |  3           | -105.1527    |  -95.64124   | 55.57635     | -111.1527    |           NA | NA           |           NA | \n",
       "| lm.masks |  4           | -121.6001    | -108.91812   | 64.80003     | -129.6001    | 18.447362788 |  1           | 1.746624e-05 | \n",
       "| lm.aligned |  5           | -119.6710    | -103.81853   | 64.83548     | -129.6710    |  0.070893611 |  1           | 7.900401e-01 | \n",
       "| lm.event |  6           | -117.6786    |  -98.65566   | 64.83928     | -129.6786    |  0.007616687 |  1           | 9.304540e-01 | \n",
       "| lm.mask.align |  7           | -116.0219    |  -93.82855   | 65.01097     | -130.0219    |  0.343374194 |  1           | 5.578880e-01 | \n",
       "| lm.mask.event |  8           | -115.0556    |  -89.69175   | 65.52781     | -131.0556    |  1.033679430 |  1           | 3.092960e-01 | \n",
       "| lm.align.event |  9           | -113.1293    |  -84.59491   | 65.56463     | -131.1293    |  0.073640086 |  1           | 7.861087e-01 | \n",
       "| lm.full.interaction | 10           | -111.1936    |  -79.48878   | 65.59681     | -131.1936    |  0.064362355 |  1           | 7.997294e-01 | \n",
       "\n",
       "\n"
      ],
      "text/plain": [
       "                    Df AIC       BIC        logLik   deviance  Chisq       \n",
       "lm.null              3 -105.1527  -95.64124 55.57635 -111.1527           NA\n",
       "lm.masks             4 -121.6001 -108.91812 64.80003 -129.6001 18.447362788\n",
       "lm.aligned           5 -119.6710 -103.81853 64.83548 -129.6710  0.070893611\n",
       "lm.event             6 -117.6786  -98.65566 64.83928 -129.6786  0.007616687\n",
       "lm.mask.align        7 -116.0219  -93.82855 65.01097 -130.0219  0.343374194\n",
       "lm.mask.event        8 -115.0556  -89.69175 65.52781 -131.0556  1.033679430\n",
       "lm.align.event       9 -113.1293  -84.59491 65.56463 -131.1293  0.073640086\n",
       "lm.full.interaction 10 -111.1936  -79.48878 65.59681 -131.1936  0.064362355\n",
       "                    Chi Df Pr(>Chisq)  \n",
       "lm.null             NA               NA\n",
       "lm.masks             1     1.746624e-05\n",
       "lm.aligned           1     7.900401e-01\n",
       "lm.event             1     9.304540e-01\n",
       "lm.mask.align        1     5.578880e-01\n",
       "lm.mask.event        1     3.092960e-01\n",
       "lm.align.event       1     7.861087e-01\n",
       "lm.full.interaction  1     7.997294e-01"
      ]
     },
     "metadata": {},
     "output_type": "display_data"
    }
   ],
   "source": [
    "sim.events <- results %>%\n",
    "    group_by(ID, Aligned, MasksN, Event) %>%\n",
    "    summarise(sim.proportion= sum(SimCount>1)/n())\n",
    "sim.events <- data.frame(sim.events)\n",
    "\n",
    "lm.null <- lme4::lmer(sim.proportion ~ 1 + (1|ID), data= sim.events, REML= FALSE)\n",
    "lm.masks <- update(lm.null, .~. + MasksN)\n",
    "lm.aligned <- update(lm.masks, .~. + Aligned)\n",
    "lm.event <- update(lm.aligned, .~. + Event)\n",
    "lm.mask.align <- update(lm.event, .~. + MasksN*Aligned)\n",
    "lm.mask.event <- update(lm.mask.align, .~. + MasksN*Event)\n",
    "lm.align.event <- update(lm.mask.event, .~. + Aligned*Event)\n",
    "lm.full.interaction <- update(lm.align.event, .~. + MasksN*Aligned*Event)\n",
    "anova(lm.null, lm.masks, lm.aligned, lm.event, lm.mask.align, lm.mask.event, lm.align.event, lm.full.interaction)"
   ]
  },
  {
   "cell_type": "markdown",
   "metadata": {},
   "source": [
    "Same analysis but using Bayesian ANOVA"
   ]
  },
  {
   "cell_type": "code",
   "execution_count": 29,
   "metadata": {},
   "outputs": [
    {
     "data": {
      "text/plain": [
       "Bayes factor analysis\n",
       "--------------\n",
       "[1] MasksN + ID                                                                                           : 897.1278    ±1.37%\n",
       "[2] MasksN + Event + ID                                                                                   : 149.0479    ±3.05%\n",
       "[3] Aligned + MasksN + ID                                                                                 : 148.2532    ±1.64%\n",
       "[4] MasksN + Event + MasksN:Event + ID                                                                    : 49.90905    ±2.97%\n",
       "[5] Aligned + MasksN + Aligned:MasksN + ID                                                                : 37.8673     ±2.26%\n",
       "[6] Aligned + MasksN + Event + ID                                                                         : 23.38397    ±2%\n",
       "[7] Aligned + MasksN + Event + MasksN:Event + ID                                                          : 7.68351     ±2.83%\n",
       "[8] Aligned + MasksN + Aligned:MasksN + Event + ID                                                        : 6.199631    ±3.64%\n",
       "[9] Aligned + MasksN + Event + Aligned:Event + ID                                                         : 5.836639    ±7.16%\n",
       "[10] Aligned + MasksN + Aligned:MasksN + Event + MasksN:Event + ID                                        : 2.007478    ±3.9%\n",
       "[11] Aligned + MasksN + Event + Aligned:Event + MasksN:Event + ID                                         : 1.861034    ±3.85%\n",
       "[12] Aligned + MasksN + Aligned:MasksN + Event + Aligned:Event + ID                                       : 1.320161    ±3.73%\n",
       "[13] Aligned + MasksN + Aligned:MasksN + Event + Aligned:Event + MasksN:Event + ID                        : 0.4478596   ±3.06%\n",
       "[14] Aligned + ID                                                                                         : 0.1666007   ±1.02%\n",
       "[15] Event + ID                                                                                           : 0.1611371   ±1.27%\n",
       "[16] Aligned + MasksN + Aligned:MasksN + Event + Aligned:Event + MasksN:Event + Aligned:MasksN:Event + ID : 0.1357385   ±3.92%\n",
       "[17] Aligned + Event + ID                                                                                 : 0.02726627  ±2.61%\n",
       "[18] Aligned + Event + Aligned:Event + ID                                                                 : 0.006302862 ±4.15%\n",
       "\n",
       "Against denominator:\n",
       "  sim.proportion ~ ID \n",
       "---\n",
       "Bayes factor type: BFlinearModel, JZS\n"
      ]
     },
     "metadata": {},
     "output_type": "display_data"
    }
   ],
   "source": [
    "set.seed(211122017)\n",
    "sim.bayes <- sort(anovaBF(sim.proportion ~ MasksN+Aligned+Event+ID, data= data.frame(sim.events), whichRandom = 'ID'), decreasing = TRUE)\n",
    "sim.bayes"
   ]
  },
  {
   "cell_type": "markdown",
   "metadata": {},
   "source": [
    "### Plotting the simultaneity results"
   ]
  },
  {
   "cell_type": "code",
   "execution_count": 25,
   "metadata": {},
   "outputs": [
    {
     "data": {
      "text/plain": [
       "Linear mixed model fit by REML t-tests use Satterthwaite approximations to\n",
       "  degrees of freedom [lmerMod]\n",
       "Formula: sim.proportion ~ Condition + (1 | ID)\n",
       "   Data: sim.per.condition.lmer\n",
       "\n",
       "REML criterion at convergence: 731.1\n",
       "\n",
       "Scaled residuals: \n",
       "     Min       1Q   Median       3Q      Max \n",
       "-2.22644 -0.48110  0.02745  0.43337  2.31596 \n",
       "\n",
       "Random effects:\n",
       " Groups   Name        Variance Std.Dev.\n",
       " ID       (Intercept) 372.5    19.30   \n",
       " Residual             172.8    13.15   \n",
       "Number of obs: 88, groups:  ID, 22\n",
       "\n",
       "Fixed effects:\n",
       "            Estimate Std. Error     df t value Pr(>|t|)    \n",
       "(Intercept)   48.458      4.979 35.010   9.733 1.71e-11 ***\n",
       "ConditionM1   10.639      3.964 63.000   2.684  0.00928 ** \n",
       "ConditionA3    1.808      3.964 63.000   0.456  0.64991    \n",
       "ConditionA1    9.961      3.964 63.000   2.513  0.01454 *  \n",
       "---\n",
       "Signif. codes:  0 '***' 0.001 '**' 0.01 '*' 0.05 '.' 0.1 ' ' 1\n",
       "\n",
       "Correlation of Fixed Effects:\n",
       "            (Intr) CndtM1 CndtA3\n",
       "ConditionM1 -0.398              \n",
       "ConditionA3 -0.398  0.500       \n",
       "ConditionA1 -0.398  0.500  0.500"
      ]
     },
     "metadata": {},
     "output_type": "display_data"
    },
    {
     "data": {
      "text/html": [
       "<table>\n",
       "<thead><tr><th scope=col>Estimate</th><th scope=col>Std.Error</th><th scope=col>df</th><th scope=col>t.value</th><th scope=col>p.value</th><th scope=col>R.sqr</th></tr></thead>\n",
       "<tbody>\n",
       "\t<tr><td>48.457651   </td><td>4.978734    </td><td>35.00502    </td><td>9.732926    </td><td>1.710720e-11</td><td>0.85450589  </td></tr>\n",
       "\t<tr><td>10.639097   </td><td>3.963984    </td><td>62.99965    </td><td>2.683940    </td><td>9.284846e-03</td><td>0.32032764  </td></tr>\n",
       "\t<tr><td> 1.807838   </td><td>3.963984    </td><td>62.99965    </td><td>0.456066    </td><td>6.499108e-01</td><td>0.05736445  </td></tr>\n",
       "\t<tr><td> 9.961417   </td><td>3.963984    </td><td>62.99965    </td><td>2.512981    </td><td>1.454263e-02</td><td>0.30183976  </td></tr>\n",
       "</tbody>\n",
       "</table>\n"
      ],
      "text/latex": [
       "\\begin{tabular}{r|llllll}\n",
       " Estimate & Std.Error & df & t.value & p.value & R.sqr\\\\\n",
       "\\hline\n",
       "\t 48.457651    & 4.978734     & 35.00502     & 9.732926     & 1.710720e-11 & 0.85450589  \\\\\n",
       "\t 10.639097    & 3.963984     & 62.99965     & 2.683940     & 9.284846e-03 & 0.32032764  \\\\\n",
       "\t  1.807838    & 3.963984     & 62.99965     & 0.456066     & 6.499108e-01 & 0.05736445  \\\\\n",
       "\t  9.961417    & 3.963984     & 62.99965     & 2.512981     & 1.454263e-02 & 0.30183976  \\\\\n",
       "\\end{tabular}\n"
      ],
      "text/markdown": [
       "\n",
       "Estimate | Std.Error | df | t.value | p.value | R.sqr | \n",
       "|---|---|---|---|\n",
       "| 48.457651    | 4.978734     | 35.00502     | 9.732926     | 1.710720e-11 | 0.85450589   | \n",
       "| 10.639097    | 3.963984     | 62.99965     | 2.683940     | 9.284846e-03 | 0.32032764   | \n",
       "|  1.807838    | 3.963984     | 62.99965     | 0.456066     | 6.499108e-01 | 0.05736445   | \n",
       "|  9.961417    | 3.963984     | 62.99965     | 2.512981     | 1.454263e-02 | 0.30183976   | \n",
       "\n",
       "\n"
      ],
      "text/plain": [
       "  Estimate  Std.Error df       t.value  p.value      R.sqr     \n",
       "1 48.457651 4.978734  35.00502 9.732926 1.710720e-11 0.85450589\n",
       "2 10.639097 3.963984  62.99965 2.683940 9.284846e-03 0.32032764\n",
       "3  1.807838 3.963984  62.99965 0.456066 6.499108e-01 0.05736445\n",
       "4  9.961417 3.963984  62.99965 2.512981 1.454263e-02 0.30183976"
      ]
     },
     "metadata": {},
     "output_type": "display_data"
    },
    {
     "data": {
      "image/png": "[encoded data removed]",
      "text/plain": [
       "plot without title"
      ]
     },
     "metadata": {},
     "output_type": "display_data"
    }
   ],
   "source": [
    "# averages per group\n",
    "sim.per.condition.plot <- results %>%\n",
    "    # computing observer proportion per condition\n",
    "    group_by(ID, Condition) %>%\n",
    "    summarise(sim.proportion= 100*sum(SimCount>1)/n()) %>%\n",
    "\n",
    "    # Adjusting observers' means following Loftus & Masson (1994)\n",
    "    group_by(ID) %>%\n",
    "    mutate(ID.avg= mean(sim.proportion)) %>%\n",
    "    ungroup() %>%\n",
    "    mutate(overall.avg= mean(sim.proportion)) %>%\n",
    "    mutate(sim.adjusted= sim.proportion - ID.avg + overall.avg) %>%\n",
    "\n",
    "    # computing group averages per condition\n",
    "    group_by(Condition) %>%\n",
    "    summarise(sim.avg= mean(sim.adjusted),\n",
    "              sim.serr= sd(sim.adjusted)/sqrt(n()))\n",
    "\n",
    "# averages per condition x observer for linear mixed models\n",
    "sim.per.condition.lmer <- results %>%\n",
    "    # computing observer proportion per condition\n",
    "    group_by(ID, Condition) %>%\n",
    "    summarise(sim.proportion= 100*sum(SimCount>1)/n())\n",
    "\n",
    "# comparison to the baseline condition (M3)\n",
    "sim.lmer <- summary(lmerTest::lmer(sim.proportion ~ Condition + (1|ID), data= sim.per.condition.lmer))\n",
    "sim.lmer\n",
    "rcontrast<-function(t, df) {\n",
    "    return (sqrt(t^2/(t^2 + df)))\n",
    "}\n",
    "coefficients.only <- data.frame(sim.lmer$coefficients)\n",
    "colnames(coefficients.only) <- c('Estimate', 'Std.Error', 'df', 't.value', 'p.value')\n",
    "dplyr::mutate(coefficients.only, R.sqr= rcontrast(t.value, df))\n",
    "\n",
    "# plot\n",
    "sim.plot <- ggplot(data= sim.per.condition.plot, aes(x= Condition, y= sim.avg, ymin= sim.avg-sim.serr, ymax= sim.avg+sim.serr))+\n",
    "    geom_errorbar(color= 'red', width=0.3)+\n",
    "    geom_point(color= 'red', size= 3) + \n",
    "    ylab('Simultaneity [%]') + \n",
    "    ggtitle('Simultaneity of disappearance/reappearance events')\n",
    "print(sim.plot)"
   ]
  },
  {
   "cell_type": "markdown",
   "metadata": {},
   "source": [
    "## Analysis of disappearance duration: average disappearance across all targets"
   ]
  },
  {
   "cell_type": "markdown",
   "metadata": {},
   "source": [
    "Computing average disappearance time across all targets"
   ]
  },
  {
   "cell_type": "code",
   "execution_count": 21,
   "metadata": {},
   "outputs": [],
   "source": [
    "disappearance.across.targets <- results %>%\n",
    "    # proportion of time a single target disappeared\n",
    "    group_by(ID, Block, Aligned, MasksN, Target, Condition) %>%\n",
    "    summarise(disapp.prop = sum(Time[Event==1]-Time[Event==0])/(1000 * Duration[1])) %>%\n",
    "\n",
    "    # average across all of them\n",
    "    group_by(ID, Aligned, MasksN, Condition) %>%\n",
    "    summarise(disappearance.prop = mean(disapp.prop)*100)\n",
    "disappearance.across.targets <- data.frame(disappearance.across.targets)"
   ]
  },
  {
   "cell_type": "code",
   "execution_count": 22,
   "metadata": {
    "scrolled": true
   },
   "outputs": [
    {
     "data": {
      "text/html": [
       "<table>\n",
       "<thead><tr><th></th><th scope=col>Df</th><th scope=col>AIC</th><th scope=col>BIC</th><th scope=col>logLik</th><th scope=col>deviance</th><th scope=col>Chisq</th><th scope=col>Chi Df</th><th scope=col>Pr(&gt;Chisq)</th></tr></thead>\n",
       "<tbody>\n",
       "\t<tr><th scope=row>lm.null</th><td>3         </td><td>588.0100  </td><td>595.4420  </td><td>-291.0050 </td><td>582.0100  </td><td>        NA</td><td>NA        </td><td>        NA</td></tr>\n",
       "\t<tr><th scope=row>lm.masks</th><td>4         </td><td>588.4672  </td><td>598.3766  </td><td>-290.2336 </td><td>580.4672  </td><td>1.54279793</td><td> 1        </td><td>0.21420182</td></tr>\n",
       "\t<tr><th scope=row>lm.aligned</th><td>5         </td><td>587.7127  </td><td>600.0994  </td><td>-288.8564 </td><td>577.7127  </td><td>2.75447776</td><td> 1        </td><td>0.09698248</td></tr>\n",
       "\t<tr><th scope=row>lm.interaction</th><td>6         </td><td>589.6488  </td><td>604.5128  </td><td>-288.8244 </td><td>577.6488  </td><td>0.06395807</td><td> 1        </td><td>0.80034601</td></tr>\n",
       "</tbody>\n",
       "</table>\n"
      ],
      "text/latex": [
       "\\begin{tabular}{r|llllllll}\n",
       "  & Df & AIC & BIC & logLik & deviance & Chisq & Chi Df & Pr(>Chisq)\\\\\n",
       "\\hline\n",
       "\tlm.null & 3          & 588.0100   & 595.4420   & -291.0050  & 582.0100   &         NA & NA         &         NA\\\\\n",
       "\tlm.masks & 4          & 588.4672   & 598.3766   & -290.2336  & 580.4672   & 1.54279793 &  1         & 0.21420182\\\\\n",
       "\tlm.aligned & 5          & 587.7127   & 600.0994   & -288.8564  & 577.7127   & 2.75447776 &  1         & 0.09698248\\\\\n",
       "\tlm.interaction & 6          & 589.6488   & 604.5128   & -288.8244  & 577.6488   & 0.06395807 &  1         & 0.80034601\\\\\n",
       "\\end{tabular}\n"
      ],
      "text/markdown": [
       "\n",
       "| <!--/--> | Df | AIC | BIC | logLik | deviance | Chisq | Chi Df | Pr(>Chisq) | \n",
       "|---|---|---|---|\n",
       "| lm.null | 3          | 588.0100   | 595.4420   | -291.0050  | 582.0100   |         NA | NA         |         NA | \n",
       "| lm.masks | 4          | 588.4672   | 598.3766   | -290.2336  | 580.4672   | 1.54279793 |  1         | 0.21420182 | \n",
       "| lm.aligned | 5          | 587.7127   | 600.0994   | -288.8564  | 577.7127   | 2.75447776 |  1         | 0.09698248 | \n",
       "| lm.interaction | 6          | 589.6488   | 604.5128   | -288.8244  | 577.6488   | 0.06395807 |  1         | 0.80034601 | \n",
       "\n",
       "\n"
      ],
      "text/plain": [
       "               Df AIC      BIC      logLik    deviance Chisq      Chi Df\n",
       "lm.null        3  588.0100 595.4420 -291.0050 582.0100         NA NA    \n",
       "lm.masks       4  588.4672 598.3766 -290.2336 580.4672 1.54279793  1    \n",
       "lm.aligned     5  587.7127 600.0994 -288.8564 577.7127 2.75447776  1    \n",
       "lm.interaction 6  589.6488 604.5128 -288.8244 577.6488 0.06395807  1    \n",
       "               Pr(>Chisq)\n",
       "lm.null                NA\n",
       "lm.masks       0.21420182\n",
       "lm.aligned     0.09698248\n",
       "lm.interaction 0.80034601"
      ]
     },
     "metadata": {},
     "output_type": "display_data"
    }
   ],
   "source": [
    "lm.null <- lme4::lmer(disappearance.prop ~ 1 + (1|ID), data= disappearance.across.targets, REML= FALSE)\n",
    "lm.masks <- update(lm.null, .~. + MasksN)\n",
    "lm.aligned <- update(lm.masks, .~. + Aligned)\n",
    "lm.interaction <- update(lm.aligned, .~. + MasksN*Aligned)\n",
    "anova(lm.null, lm.masks, lm.aligned, lm.interaction)"
   ]
  },
  {
   "cell_type": "code",
   "execution_count": 23,
   "metadata": {
    "scrolled": true
   },
   "outputs": [
    {
     "data": {
      "text/plain": [
       "Bayes factor analysis\n",
       "--------------\n",
       "[1] Aligned + ID                           : 0.6967405  ±1.19%\n",
       "[2] MasksN + ID                            : 0.4387547  ±3.13%\n",
       "[3] Aligned + MasksN + ID                  : 0.3100085  ±1.59%\n",
       "[4] Aligned + MasksN + Aligned:MasksN + ID : 0.08999146 ±2.73%\n",
       "\n",
       "Against denominator:\n",
       "  disappearance.prop ~ ID \n",
       "---\n",
       "Bayes factor type: BFlinearModel, JZS\n"
      ]
     },
     "metadata": {},
     "output_type": "display_data"
    }
   ],
   "source": [
    "set.seed(311122017)\n",
    "duration.bayes <- sort(anovaBF(disappearance.prop ~ MasksN + Aligned + ID, data= disappearance.across.targets, whichRandom = 'ID'), \n",
    "                       decreasing = TRUE)\n",
    "duration.bayes"
   ]
  },
  {
   "cell_type": "code",
   "execution_count": 24,
   "metadata": {
    "scrolled": false
   },
   "outputs": [
    {
     "data": {
      "text/plain": [
       "Linear mixed model fit by REML t-tests use Satterthwaite approximations to\n",
       "  degrees of freedom [lmerMod]\n",
       "Formula: disappearance.prop ~ Condition + (1 | ID)\n",
       "   Data: disappearance.across.targets\n",
       "\n",
       "REML criterion at convergence: 567.7\n",
       "\n",
       "Scaled residuals: \n",
       "     Min       1Q   Median       3Q      Max \n",
       "-1.93950 -0.52979 -0.04127  0.45237  2.28904 \n",
       "\n",
       "Random effects:\n",
       " Groups   Name        Variance Std.Dev.\n",
       " ID       (Intercept) 48.54    6.967   \n",
       " Residual             25.36    5.036   \n",
       "Number of obs: 88, groups:  ID, 22\n",
       "\n",
       "Fixed effects:\n",
       "            Estimate Std. Error     df t value Pr(>|t|)    \n",
       "(Intercept)   14.655      1.833 36.610   7.996  1.5e-09 ***\n",
       "ConditionM1   -1.074      1.518 63.000  -0.707   0.4822    \n",
       "ConditionA3   -1.495      1.518 63.000  -0.984   0.3287    \n",
       "ConditionA1   -3.099      1.518 63.000  -2.041   0.0454 *  \n",
       "---\n",
       "Signif. codes:  0 '***' 0.001 '**' 0.01 '*' 0.05 '.' 0.1 ' ' 1\n",
       "\n",
       "Correlation of Fixed Effects:\n",
       "            (Intr) CndtM1 CndtA3\n",
       "ConditionM1 -0.414              \n",
       "ConditionA3 -0.414  0.500       \n",
       "ConditionA1 -0.414  0.500  0.500"
      ]
     },
     "metadata": {},
     "output_type": "display_data"
    },
    {
     "data": {
      "text/html": [
       "<table>\n",
       "<thead><tr><th scope=col>Estimate</th><th scope=col>Std.Error</th><th scope=col>df</th><th scope=col>t.value</th><th scope=col>p.value</th><th scope=col>R.sqr</th></tr></thead>\n",
       "<tbody>\n",
       "\t<tr><td>14.655429   </td><td>1.832863    </td><td>36.61277    </td><td> 7.9959209  </td><td>1.504962e-09</td><td>0.79741209  </td></tr>\n",
       "\t<tr><td>-1.073554   </td><td>1.518445    </td><td>62.99993    </td><td>-0.7070091  </td><td>4.821678e-01</td><td>0.08872354  </td></tr>\n",
       "\t<tr><td>-1.494830   </td><td>1.518445    </td><td>62.99993    </td><td>-0.9844478  </td><td>3.286611e-01</td><td>0.12308572  </td></tr>\n",
       "\t<tr><td>-3.099104   </td><td>1.518445    </td><td>62.99993    </td><td>-2.0409722  </td><td>4.544836e-02</td><td>0.24903705  </td></tr>\n",
       "</tbody>\n",
       "</table>\n"
      ],
      "text/latex": [
       "\\begin{tabular}{r|llllll}\n",
       " Estimate & Std.Error & df & t.value & p.value & R.sqr\\\\\n",
       "\\hline\n",
       "\t 14.655429    & 1.832863     & 36.61277     &  7.9959209   & 1.504962e-09 & 0.79741209  \\\\\n",
       "\t -1.073554    & 1.518445     & 62.99993     & -0.7070091   & 4.821678e-01 & 0.08872354  \\\\\n",
       "\t -1.494830    & 1.518445     & 62.99993     & -0.9844478   & 3.286611e-01 & 0.12308572  \\\\\n",
       "\t -3.099104    & 1.518445     & 62.99993     & -2.0409722   & 4.544836e-02 & 0.24903705  \\\\\n",
       "\\end{tabular}\n"
      ],
      "text/markdown": [
       "\n",
       "Estimate | Std.Error | df | t.value | p.value | R.sqr | \n",
       "|---|---|---|---|\n",
       "| 14.655429    | 1.832863     | 36.61277     |  7.9959209   | 1.504962e-09 | 0.79741209   | \n",
       "| -1.073554    | 1.518445     | 62.99993     | -0.7070091   | 4.821678e-01 | 0.08872354   | \n",
       "| -1.494830    | 1.518445     | 62.99993     | -0.9844478   | 3.286611e-01 | 0.12308572   | \n",
       "| -3.099104    | 1.518445     | 62.99993     | -2.0409722   | 4.544836e-02 | 0.24903705   | \n",
       "\n",
       "\n"
      ],
      "text/plain": [
       "  Estimate  Std.Error df       t.value    p.value      R.sqr     \n",
       "1 14.655429 1.832863  36.61277  7.9959209 1.504962e-09 0.79741209\n",
       "2 -1.073554 1.518445  62.99993 -0.7070091 4.821678e-01 0.08872354\n",
       "3 -1.494830 1.518445  62.99993 -0.9844478 3.286611e-01 0.12308572\n",
       "4 -3.099104 1.518445  62.99993 -2.0409722 4.544836e-02 0.24903705"
      ]
     },
     "metadata": {},
     "output_type": "display_data"
    },
    {
     "data": {
      "image/png": "[encoded data removed]",
      "text/plain": [
       "plot without title"
      ]
     },
     "metadata": {},
     "output_type": "display_data"
    }
   ],
   "source": [
    "# averages per group\n",
    "time.per.condition.plot <- disappearance.across.targets %>%\n",
    "    # Adjusting observers' means following Loftus & Masson (1994)\n",
    "    group_by(ID) %>%\n",
    "    mutate(ID.avg= mean(disappearance.prop)) %>%\n",
    "    ungroup() %>%\n",
    "    mutate(overall.avg= mean(disappearance.prop)) %>%\n",
    "    mutate(time.adjusted= disappearance.prop - ID.avg + overall.avg) %>%\n",
    "\n",
    "    # computing group averages per condition\n",
    "    group_by(Condition) %>%\n",
    "    summarise(time.avg= mean(time.adjusted),\n",
    "              time.serr= sd(time.adjusted)/sqrt(n()))\n",
    "\n",
    "# comparison to the baseline condition (M3)\n",
    "duration.lmer <- summary(lmerTest::lmer(disappearance.prop ~ Condition + (1|ID), data= disappearance.across.targets))\n",
    "duration.lmer\n",
    "rcontrast<-function(t, df) {\n",
    "    return (sqrt(t^2/(t^2 + df)))\n",
    "}\n",
    "coefficients.only <- data.frame(duration.lmer$coefficients)\n",
    "colnames(coefficients.only) <- c('Estimate', 'Std.Error', 'df', 't.value', 'p.value')\n",
    "dplyr::mutate(coefficients.only, R.sqr= rcontrast(t.value, df))\n",
    "\n",
    "# plot\n",
    "time.plot <- ggplot(data= time.per.condition.plot, aes(x= Condition, y= time.avg, ymin= time.avg-time.serr, ymax= time.avg+time.serr))+\n",
    "    geom_errorbar(color= 'darkgreen', width=0.3)+\n",
    "    geom_point(color= 'darkgreen', size= 3) + \n",
    "    ylab('Disappearance time [%]') + \n",
    "    ggtitle('Average disappearance time across all targets')\n",
    "print(time.plot)"
   ]
  }
 ],
 "metadata": {
  "kernelspec": {
   "display_name": "R",
   "language": "R",
   "name": "ir"
  },
  "language_info": {
   "codemirror_mode": "r",
   "file_extension": ".r",
   "mimetype": "text/x-r-source",
   "name": "R",
   "pygments_lexer": "r",
   "version": "3.4.2"
  }
 },
 "nbformat": 4,
 "nbformat_minor": 2
}
